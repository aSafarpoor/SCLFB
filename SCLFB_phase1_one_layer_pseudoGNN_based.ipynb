{
  "nbformat": 4,
  "nbformat_minor": 0,
  "metadata": {
    "colab": {
      "name": "SCLFB phase1 one layer GNN based.ipynb",
      "provenance": [],
      "collapsed_sections": [],
      "authorship_tag": "ABX9TyOKRI1ec+uXLMWXBF9TV7yU",
      "include_colab_link": true
    },
    "kernelspec": {
      "name": "python3",
      "display_name": "Python 3"
    },
    "language_info": {
      "name": "python"
    },
    "accelerator": "GPU",
    "gpuClass": "standard"
  },
  "cells": [
    {
      "cell_type": "markdown",
      "metadata": {
        "id": "view-in-github",
        "colab_type": "text"
      },
      "source": [
        "<a href=\"https://colab.research.google.com/github/aSafarpoor/SCLFB/blob/main/SCLFB_phase1_one_layer_GNN_based.ipynb\" target=\"_parent\"><img src=\"https://colab.research.google.com/assets/colab-badge.svg\" alt=\"Open In Colab\"/></a>"
      ]
    },
    {
      "cell_type": "code",
      "source": [
        "import numpy as np\n",
        "import pandas as pd\n",
        "from matplotlib import pyplot as plt\n",
        "from tqdm import tqdm\n",
        "import pickle\n",
        "import random\n",
        "import json\n",
        "import re\n",
        "import nltk\n",
        "nltk.download('stopwords')\n",
        "from nltk.corpus import stopwords\n",
        "import math\n",
        "import cv2\n",
        "from google.colab.patches import cv2_imshow\n",
        "import os"
      ],
      "metadata": {
        "colab": {
          "base_uri": "https://localhost:8080/"
        },
        "id": "G5wGoRBMFH3K",
        "outputId": "6629bdc0-b7b7-4381-89a6-a9394dd911e1"
      },
      "execution_count": 1,
      "outputs": [
        {
          "output_type": "stream",
          "name": "stderr",
          "text": [
            "[nltk_data] Downloading package stopwords to /root/nltk_data...\n",
            "[nltk_data]   Unzipping corpora/stopwords.zip.\n"
          ]
        }
      ]
    },
    {
      "cell_type": "code",
      "source": [
        "tqdm.pandas()"
      ],
      "metadata": {
        "id": "xZxNr2DmLN_8"
      },
      "execution_count": 2,
      "outputs": []
    },
    {
      "cell_type": "markdown",
      "source": [
        "#go to path"
      ],
      "metadata": {
        "id": "m2Hd85d9KzQ7"
      }
    },
    {
      "cell_type": "code",
      "source": [
        "from google.colab import drive\n",
        "drive.mount('/content/drive')"
      ],
      "metadata": {
        "colab": {
          "base_uri": "https://localhost:8080/"
        },
        "id": "3PHbCJrXDBAk",
        "outputId": "795e7895-0a39-42ad-c064-8603ce4db426"
      },
      "execution_count": 3,
      "outputs": [
        {
          "output_type": "stream",
          "name": "stdout",
          "text": [
            "Mounted at /content/drive\n"
          ]
        }
      ]
    },
    {
      "cell_type": "code",
      "source": [
        "%cd drive/MyDrive/MSc/SCLAD/\n",
        "%mkdir FB15k237\n",
        "%cd FB15k237"
      ],
      "metadata": {
        "colab": {
          "base_uri": "https://localhost:8080/"
        },
        "id": "Val8bsLzDbss",
        "outputId": "6f2d7cb2-eb93-4331-914c-12bc9819f7c7"
      },
      "execution_count": 4,
      "outputs": [
        {
          "output_type": "stream",
          "name": "stdout",
          "text": [
            "/content/drive/MyDrive/MSc/SCLAD\n",
            "mkdir: cannot create directory ‘FB15k237’: File exists\n",
            "/content/drive/MyDrive/MSc/SCLAD/FB15k237\n"
          ]
        }
      ]
    },
    {
      "cell_type": "markdown",
      "source": [
        "#read data"
      ],
      "metadata": {
        "id": "sdG3jF7zKhYt"
      }
    },
    {
      "cell_type": "code",
      "execution_count": 5,
      "metadata": {
        "id": "neo8h2AWCjDg"
      },
      "outputs": [],
      "source": [
        "# !wget https://raw.githubusercontent.com/intfloat/SimKGC/main/data/FB15k237/FB15k_mid2name.txt\n",
        "# !wget https://raw.githubusercontent.com/intfloat/SimKGC/main/data/FB15k237/FB15k_mid2description.txt\n",
        "# !wget https://raw.githubusercontent.com/intfloat/SimKGC/main/data/FB15k237/test.txt\n",
        "# !wget https://raw.githubusercontent.com/intfloat/SimKGC/main/data/FB15k237/train.txt\n",
        "# !wget https://raw.githubusercontent.com/intfloat/SimKGC/main/data/FB15k237/valid.txt"
      ]
    },
    {
      "cell_type": "code",
      "source": [
        "!ls"
      ],
      "metadata": {
        "colab": {
          "base_uri": "https://localhost:8080/"
        },
        "id": "r3MB7nD9D_1T",
        "outputId": "afc2b6e5-f2a0-4b28-a351-239341691069"
      },
      "execution_count": 6,
      "outputs": [
        {
          "output_type": "stream",
          "name": "stdout",
          "text": [
            "des.p\t\t\t   FB15k_mid2name.txt  test.pkl  train.txt\n",
            "FB15k_mid2description.txt  sim.pkl\t       test.txt  valid.txt\n"
          ]
        }
      ]
    },
    {
      "cell_type": "code",
      "source": [
        "with open('des.p','rb') as f:\n",
        "     des = pickle.load(f)\n",
        "\n",
        "des"
      ],
      "metadata": {
        "id": "faXWmqnlECQi",
        "colab": {
          "base_uri": "https://localhost:8080/",
          "height": 424
        },
        "outputId": "1baa68a0-cf44-462a-e68e-a8eaf5cce003"
      },
      "execution_count": 7,
      "outputs": [
        {
          "output_type": "execute_result",
          "data": {
            "text/plain": [
              "         namecode                                        description  \\\n",
              "0        /m/06rf7  schleswigholstein northernmost sixteen states ...   \n",
              "1       /m/0c94fn  gary roger rydstrom american sound designer di...   \n",
              "2       /m/016ywr  jeremy john irons english actor receiving clas...   \n",
              "3        /m/01yjl  chicago cubs professional baseball team locate...   \n",
              "4      /m/02hrh1q  actor person portraying character dramatic com...   \n",
              "...           ...                                                ...   \n",
              "14899   /m/08jyyk  experimental rock avantgarde rock type music b...   \n",
              "14900   /m/037fqp  marquette university private coeducational jes...   \n",
              "14901   /m/05v954  christopher robin sabat american voice actor a...   \n",
              "14902   /m/03wv2g  mercer university private coeducational univer...   \n",
              "14903   /m/03xhj6  sparks american band formed los angeles brothe...   \n",
              "\n",
              "                      title  \\\n",
              "0        Schleswig-Holstein   \n",
              "1             Gary_Rydstrom   \n",
              "2              Jeremy_Irons   \n",
              "3              Chicago_Cubs   \n",
              "4                  Actor-GB   \n",
              "...                     ...   \n",
              "14899     Experimental_rock   \n",
              "14900  Marquette_University   \n",
              "14901     Christopher_Sabat   \n",
              "14902     Mercer_University   \n",
              "14903                Sparks   \n",
              "\n",
              "                                                    text  \\\n",
              "0      schleswigholstein schleswigholstein northernmo...   \n",
              "1      gary_rydstrom gary roger rydstrom american sou...   \n",
              "2      jeremy_irons jeremy john irons english actor r...   \n",
              "3      chicago_cubs chicago cubs professional basebal...   \n",
              "4      actorgb actor person portraying character dram...   \n",
              "...                                                  ...   \n",
              "14899  experimental_rock experimental rock avantgarde...   \n",
              "14900  marquette_university marquette university priv...   \n",
              "14901  christopher_sabat christopher robin sabat amer...   \n",
              "14902  mercer_university mercer university private co...   \n",
              "14903  sparks sparks american band formed los angeles...   \n",
              "\n",
              "                                                embedded  \n",
              "0      [-0.5489803, 0.16440539, 0.66058505, -0.037717...  \n",
              "1      [-0.36805353, 1.2219998, 0.22228242, 0.5203364...  \n",
              "2      [-0.8121141, 0.7617216, 0.43965185, -0.0815964...  \n",
              "3      [-0.5676567, 0.1930804, -0.13923785, 0.4089947...  \n",
              "4      [0.30152893, 0.9061507, 0.70486355, 0.19482128...  \n",
              "...                                                  ...  \n",
              "14899  [0.23046279, 0.11413644, 0.11279315, 0.3775108...  \n",
              "14900  [-0.7175616, 0.98445547, -0.17260364, 0.035183...  \n",
              "14901  [-0.788014, 0.57135695, 0.06602024, 0.16588826...  \n",
              "14902  [-0.09629617, 0.82491106, 0.10996592, 0.109891...  \n",
              "14903  [-0.5601829, 0.73778224, 0.53706485, 0.1589967...  \n",
              "\n",
              "[14904 rows x 5 columns]"
            ],
            "text/html": [
              "\n",
              "  <div id=\"df-dc55dd33-1f98-4ab1-bad9-68674db70da0\">\n",
              "    <div class=\"colab-df-container\">\n",
              "      <div>\n",
              "<style scoped>\n",
              "    .dataframe tbody tr th:only-of-type {\n",
              "        vertical-align: middle;\n",
              "    }\n",
              "\n",
              "    .dataframe tbody tr th {\n",
              "        vertical-align: top;\n",
              "    }\n",
              "\n",
              "    .dataframe thead th {\n",
              "        text-align: right;\n",
              "    }\n",
              "</style>\n",
              "<table border=\"1\" class=\"dataframe\">\n",
              "  <thead>\n",
              "    <tr style=\"text-align: right;\">\n",
              "      <th></th>\n",
              "      <th>namecode</th>\n",
              "      <th>description</th>\n",
              "      <th>title</th>\n",
              "      <th>text</th>\n",
              "      <th>embedded</th>\n",
              "    </tr>\n",
              "  </thead>\n",
              "  <tbody>\n",
              "    <tr>\n",
              "      <th>0</th>\n",
              "      <td>/m/06rf7</td>\n",
              "      <td>schleswigholstein northernmost sixteen states ...</td>\n",
              "      <td>Schleswig-Holstein</td>\n",
              "      <td>schleswigholstein schleswigholstein northernmo...</td>\n",
              "      <td>[-0.5489803, 0.16440539, 0.66058505, -0.037717...</td>\n",
              "    </tr>\n",
              "    <tr>\n",
              "      <th>1</th>\n",
              "      <td>/m/0c94fn</td>\n",
              "      <td>gary roger rydstrom american sound designer di...</td>\n",
              "      <td>Gary_Rydstrom</td>\n",
              "      <td>gary_rydstrom gary roger rydstrom american sou...</td>\n",
              "      <td>[-0.36805353, 1.2219998, 0.22228242, 0.5203364...</td>\n",
              "    </tr>\n",
              "    <tr>\n",
              "      <th>2</th>\n",
              "      <td>/m/016ywr</td>\n",
              "      <td>jeremy john irons english actor receiving clas...</td>\n",
              "      <td>Jeremy_Irons</td>\n",
              "      <td>jeremy_irons jeremy john irons english actor r...</td>\n",
              "      <td>[-0.8121141, 0.7617216, 0.43965185, -0.0815964...</td>\n",
              "    </tr>\n",
              "    <tr>\n",
              "      <th>3</th>\n",
              "      <td>/m/01yjl</td>\n",
              "      <td>chicago cubs professional baseball team locate...</td>\n",
              "      <td>Chicago_Cubs</td>\n",
              "      <td>chicago_cubs chicago cubs professional basebal...</td>\n",
              "      <td>[-0.5676567, 0.1930804, -0.13923785, 0.4089947...</td>\n",
              "    </tr>\n",
              "    <tr>\n",
              "      <th>4</th>\n",
              "      <td>/m/02hrh1q</td>\n",
              "      <td>actor person portraying character dramatic com...</td>\n",
              "      <td>Actor-GB</td>\n",
              "      <td>actorgb actor person portraying character dram...</td>\n",
              "      <td>[0.30152893, 0.9061507, 0.70486355, 0.19482128...</td>\n",
              "    </tr>\n",
              "    <tr>\n",
              "      <th>...</th>\n",
              "      <td>...</td>\n",
              "      <td>...</td>\n",
              "      <td>...</td>\n",
              "      <td>...</td>\n",
              "      <td>...</td>\n",
              "    </tr>\n",
              "    <tr>\n",
              "      <th>14899</th>\n",
              "      <td>/m/08jyyk</td>\n",
              "      <td>experimental rock avantgarde rock type music b...</td>\n",
              "      <td>Experimental_rock</td>\n",
              "      <td>experimental_rock experimental rock avantgarde...</td>\n",
              "      <td>[0.23046279, 0.11413644, 0.11279315, 0.3775108...</td>\n",
              "    </tr>\n",
              "    <tr>\n",
              "      <th>14900</th>\n",
              "      <td>/m/037fqp</td>\n",
              "      <td>marquette university private coeducational jes...</td>\n",
              "      <td>Marquette_University</td>\n",
              "      <td>marquette_university marquette university priv...</td>\n",
              "      <td>[-0.7175616, 0.98445547, -0.17260364, 0.035183...</td>\n",
              "    </tr>\n",
              "    <tr>\n",
              "      <th>14901</th>\n",
              "      <td>/m/05v954</td>\n",
              "      <td>christopher robin sabat american voice actor a...</td>\n",
              "      <td>Christopher_Sabat</td>\n",
              "      <td>christopher_sabat christopher robin sabat amer...</td>\n",
              "      <td>[-0.788014, 0.57135695, 0.06602024, 0.16588826...</td>\n",
              "    </tr>\n",
              "    <tr>\n",
              "      <th>14902</th>\n",
              "      <td>/m/03wv2g</td>\n",
              "      <td>mercer university private coeducational univer...</td>\n",
              "      <td>Mercer_University</td>\n",
              "      <td>mercer_university mercer university private co...</td>\n",
              "      <td>[-0.09629617, 0.82491106, 0.10996592, 0.109891...</td>\n",
              "    </tr>\n",
              "    <tr>\n",
              "      <th>14903</th>\n",
              "      <td>/m/03xhj6</td>\n",
              "      <td>sparks american band formed los angeles brothe...</td>\n",
              "      <td>Sparks</td>\n",
              "      <td>sparks sparks american band formed los angeles...</td>\n",
              "      <td>[-0.5601829, 0.73778224, 0.53706485, 0.1589967...</td>\n",
              "    </tr>\n",
              "  </tbody>\n",
              "</table>\n",
              "<p>14904 rows × 5 columns</p>\n",
              "</div>\n",
              "      <button class=\"colab-df-convert\" onclick=\"convertToInteractive('df-dc55dd33-1f98-4ab1-bad9-68674db70da0')\"\n",
              "              title=\"Convert this dataframe to an interactive table.\"\n",
              "              style=\"display:none;\">\n",
              "        \n",
              "  <svg xmlns=\"http://www.w3.org/2000/svg\" height=\"24px\"viewBox=\"0 0 24 24\"\n",
              "       width=\"24px\">\n",
              "    <path d=\"M0 0h24v24H0V0z\" fill=\"none\"/>\n",
              "    <path d=\"M18.56 5.44l.94 2.06.94-2.06 2.06-.94-2.06-.94-.94-2.06-.94 2.06-2.06.94zm-11 1L8.5 8.5l.94-2.06 2.06-.94-2.06-.94L8.5 2.5l-.94 2.06-2.06.94zm10 10l.94 2.06.94-2.06 2.06-.94-2.06-.94-.94-2.06-.94 2.06-2.06.94z\"/><path d=\"M17.41 7.96l-1.37-1.37c-.4-.4-.92-.59-1.43-.59-.52 0-1.04.2-1.43.59L10.3 9.45l-7.72 7.72c-.78.78-.78 2.05 0 2.83L4 21.41c.39.39.9.59 1.41.59.51 0 1.02-.2 1.41-.59l7.78-7.78 2.81-2.81c.8-.78.8-2.07 0-2.86zM5.41 20L4 18.59l7.72-7.72 1.47 1.35L5.41 20z\"/>\n",
              "  </svg>\n",
              "      </button>\n",
              "      \n",
              "  <style>\n",
              "    .colab-df-container {\n",
              "      display:flex;\n",
              "      flex-wrap:wrap;\n",
              "      gap: 12px;\n",
              "    }\n",
              "\n",
              "    .colab-df-convert {\n",
              "      background-color: #E8F0FE;\n",
              "      border: none;\n",
              "      border-radius: 50%;\n",
              "      cursor: pointer;\n",
              "      display: none;\n",
              "      fill: #1967D2;\n",
              "      height: 32px;\n",
              "      padding: 0 0 0 0;\n",
              "      width: 32px;\n",
              "    }\n",
              "\n",
              "    .colab-df-convert:hover {\n",
              "      background-color: #E2EBFA;\n",
              "      box-shadow: 0px 1px 2px rgba(60, 64, 67, 0.3), 0px 1px 3px 1px rgba(60, 64, 67, 0.15);\n",
              "      fill: #174EA6;\n",
              "    }\n",
              "\n",
              "    [theme=dark] .colab-df-convert {\n",
              "      background-color: #3B4455;\n",
              "      fill: #D2E3FC;\n",
              "    }\n",
              "\n",
              "    [theme=dark] .colab-df-convert:hover {\n",
              "      background-color: #434B5C;\n",
              "      box-shadow: 0px 1px 3px 1px rgba(0, 0, 0, 0.15);\n",
              "      filter: drop-shadow(0px 1px 2px rgba(0, 0, 0, 0.3));\n",
              "      fill: #FFFFFF;\n",
              "    }\n",
              "  </style>\n",
              "\n",
              "      <script>\n",
              "        const buttonEl =\n",
              "          document.querySelector('#df-dc55dd33-1f98-4ab1-bad9-68674db70da0 button.colab-df-convert');\n",
              "        buttonEl.style.display =\n",
              "          google.colab.kernel.accessAllowed ? 'block' : 'none';\n",
              "\n",
              "        async function convertToInteractive(key) {\n",
              "          const element = document.querySelector('#df-dc55dd33-1f98-4ab1-bad9-68674db70da0');\n",
              "          const dataTable =\n",
              "            await google.colab.kernel.invokeFunction('convertToInteractive',\n",
              "                                                     [key], {});\n",
              "          if (!dataTable) return;\n",
              "\n",
              "          const docLinkHtml = 'Like what you see? Visit the ' +\n",
              "            '<a target=\"_blank\" href=https://colab.research.google.com/notebooks/data_table.ipynb>data table notebook</a>'\n",
              "            + ' to learn more about interactive tables.';\n",
              "          element.innerHTML = '';\n",
              "          dataTable['output_type'] = 'display_data';\n",
              "          await google.colab.output.renderOutput(dataTable, element);\n",
              "          const docLink = document.createElement('div');\n",
              "          docLink.innerHTML = docLinkHtml;\n",
              "          element.appendChild(docLink);\n",
              "        }\n",
              "      </script>\n",
              "    </div>\n",
              "  </div>\n",
              "  "
            ]
          },
          "metadata": {},
          "execution_count": 7
        }
      ]
    },
    {
      "cell_type": "code",
      "source": [
        "dfname = []\n",
        "for line in open('FB15k_mid2name.txt', 'r'):\n",
        "    dfname.append(line.replace('\\n','').split('\\t'))\n",
        "dfname = pd.DataFrame(dfname)\n",
        "dfname = dfname.rename(columns={0: \"namecode\", 1: \"title\"})\n",
        "dfname.head(5)"
      ],
      "metadata": {
        "colab": {
          "base_uri": "https://localhost:8080/",
          "height": 206
        },
        "id": "qqZ2yR8bFiVx",
        "outputId": "59980e6d-1275-4ed5-c30a-770eb1c8f101"
      },
      "execution_count": 8,
      "outputs": [
        {
          "output_type": "execute_result",
          "data": {
            "text/plain": [
              "     namecode               title\n",
              "0    /m/06rf7  Schleswig-Holstein\n",
              "1   /m/0c94fn       Gary_Rydstrom\n",
              "2   /m/016ywr        Jeremy_Irons\n",
              "3    /m/01yjl        Chicago_Cubs\n",
              "4  /m/02hrh1q            Actor-GB"
            ],
            "text/html": [
              "\n",
              "  <div id=\"df-b7ad2f2f-3cfc-4453-890c-2791c056db92\">\n",
              "    <div class=\"colab-df-container\">\n",
              "      <div>\n",
              "<style scoped>\n",
              "    .dataframe tbody tr th:only-of-type {\n",
              "        vertical-align: middle;\n",
              "    }\n",
              "\n",
              "    .dataframe tbody tr th {\n",
              "        vertical-align: top;\n",
              "    }\n",
              "\n",
              "    .dataframe thead th {\n",
              "        text-align: right;\n",
              "    }\n",
              "</style>\n",
              "<table border=\"1\" class=\"dataframe\">\n",
              "  <thead>\n",
              "    <tr style=\"text-align: right;\">\n",
              "      <th></th>\n",
              "      <th>namecode</th>\n",
              "      <th>title</th>\n",
              "    </tr>\n",
              "  </thead>\n",
              "  <tbody>\n",
              "    <tr>\n",
              "      <th>0</th>\n",
              "      <td>/m/06rf7</td>\n",
              "      <td>Schleswig-Holstein</td>\n",
              "    </tr>\n",
              "    <tr>\n",
              "      <th>1</th>\n",
              "      <td>/m/0c94fn</td>\n",
              "      <td>Gary_Rydstrom</td>\n",
              "    </tr>\n",
              "    <tr>\n",
              "      <th>2</th>\n",
              "      <td>/m/016ywr</td>\n",
              "      <td>Jeremy_Irons</td>\n",
              "    </tr>\n",
              "    <tr>\n",
              "      <th>3</th>\n",
              "      <td>/m/01yjl</td>\n",
              "      <td>Chicago_Cubs</td>\n",
              "    </tr>\n",
              "    <tr>\n",
              "      <th>4</th>\n",
              "      <td>/m/02hrh1q</td>\n",
              "      <td>Actor-GB</td>\n",
              "    </tr>\n",
              "  </tbody>\n",
              "</table>\n",
              "</div>\n",
              "      <button class=\"colab-df-convert\" onclick=\"convertToInteractive('df-b7ad2f2f-3cfc-4453-890c-2791c056db92')\"\n",
              "              title=\"Convert this dataframe to an interactive table.\"\n",
              "              style=\"display:none;\">\n",
              "        \n",
              "  <svg xmlns=\"http://www.w3.org/2000/svg\" height=\"24px\"viewBox=\"0 0 24 24\"\n",
              "       width=\"24px\">\n",
              "    <path d=\"M0 0h24v24H0V0z\" fill=\"none\"/>\n",
              "    <path d=\"M18.56 5.44l.94 2.06.94-2.06 2.06-.94-2.06-.94-.94-2.06-.94 2.06-2.06.94zm-11 1L8.5 8.5l.94-2.06 2.06-.94-2.06-.94L8.5 2.5l-.94 2.06-2.06.94zm10 10l.94 2.06.94-2.06 2.06-.94-2.06-.94-.94-2.06-.94 2.06-2.06.94z\"/><path d=\"M17.41 7.96l-1.37-1.37c-.4-.4-.92-.59-1.43-.59-.52 0-1.04.2-1.43.59L10.3 9.45l-7.72 7.72c-.78.78-.78 2.05 0 2.83L4 21.41c.39.39.9.59 1.41.59.51 0 1.02-.2 1.41-.59l7.78-7.78 2.81-2.81c.8-.78.8-2.07 0-2.86zM5.41 20L4 18.59l7.72-7.72 1.47 1.35L5.41 20z\"/>\n",
              "  </svg>\n",
              "      </button>\n",
              "      \n",
              "  <style>\n",
              "    .colab-df-container {\n",
              "      display:flex;\n",
              "      flex-wrap:wrap;\n",
              "      gap: 12px;\n",
              "    }\n",
              "\n",
              "    .colab-df-convert {\n",
              "      background-color: #E8F0FE;\n",
              "      border: none;\n",
              "      border-radius: 50%;\n",
              "      cursor: pointer;\n",
              "      display: none;\n",
              "      fill: #1967D2;\n",
              "      height: 32px;\n",
              "      padding: 0 0 0 0;\n",
              "      width: 32px;\n",
              "    }\n",
              "\n",
              "    .colab-df-convert:hover {\n",
              "      background-color: #E2EBFA;\n",
              "      box-shadow: 0px 1px 2px rgba(60, 64, 67, 0.3), 0px 1px 3px 1px rgba(60, 64, 67, 0.15);\n",
              "      fill: #174EA6;\n",
              "    }\n",
              "\n",
              "    [theme=dark] .colab-df-convert {\n",
              "      background-color: #3B4455;\n",
              "      fill: #D2E3FC;\n",
              "    }\n",
              "\n",
              "    [theme=dark] .colab-df-convert:hover {\n",
              "      background-color: #434B5C;\n",
              "      box-shadow: 0px 1px 3px 1px rgba(0, 0, 0, 0.15);\n",
              "      filter: drop-shadow(0px 1px 2px rgba(0, 0, 0, 0.3));\n",
              "      fill: #FFFFFF;\n",
              "    }\n",
              "  </style>\n",
              "\n",
              "      <script>\n",
              "        const buttonEl =\n",
              "          document.querySelector('#df-b7ad2f2f-3cfc-4453-890c-2791c056db92 button.colab-df-convert');\n",
              "        buttonEl.style.display =\n",
              "          google.colab.kernel.accessAllowed ? 'block' : 'none';\n",
              "\n",
              "        async function convertToInteractive(key) {\n",
              "          const element = document.querySelector('#df-b7ad2f2f-3cfc-4453-890c-2791c056db92');\n",
              "          const dataTable =\n",
              "            await google.colab.kernel.invokeFunction('convertToInteractive',\n",
              "                                                     [key], {});\n",
              "          if (!dataTable) return;\n",
              "\n",
              "          const docLinkHtml = 'Like what you see? Visit the ' +\n",
              "            '<a target=\"_blank\" href=https://colab.research.google.com/notebooks/data_table.ipynb>data table notebook</a>'\n",
              "            + ' to learn more about interactive tables.';\n",
              "          element.innerHTML = '';\n",
              "          dataTable['output_type'] = 'display_data';\n",
              "          await google.colab.output.renderOutput(dataTable, element);\n",
              "          const docLink = document.createElement('div');\n",
              "          docLink.innerHTML = docLinkHtml;\n",
              "          element.appendChild(docLink);\n",
              "        }\n",
              "      </script>\n",
              "    </div>\n",
              "  </div>\n",
              "  "
            ]
          },
          "metadata": {},
          "execution_count": 8
        }
      ]
    },
    {
      "cell_type": "code",
      "source": [
        "train = []\n",
        "for line in open('train.txt', 'r'):\n",
        "    train.append(line.replace('\\n','').split('\\t'))\n",
        "train = pd.DataFrame(train)\n",
        "train = train.rename(columns={0: \"namecode1\", 1: \"title\", 2: \"namecode2\"})\n",
        "train.head(5)"
      ],
      "metadata": {
        "id": "vUMn-iUnGejg",
        "colab": {
          "base_uri": "https://localhost:8080/",
          "height": 206
        },
        "outputId": "8f2ba40b-c99a-41e0-bd80-619eaa402aeb"
      },
      "execution_count": 9,
      "outputs": [
        {
          "output_type": "execute_result",
          "data": {
            "text/plain": [
              "    namecode1                                              title  namecode2\n",
              "0    /m/027rn               /location/country/form_of_government   /m/06cx9\n",
              "1   /m/017dcd  /tv/tv_program/regular_cast./tv/regular_tv_app...  /m/06v8s0\n",
              "2  /m/07s9rl0                 /media_common/netflix_genre/titles  /m/0170z3\n",
              "3   /m/01sl1q  /award/award_winner/awards_won./award/award_ho...  /m/044mz_\n",
              "4   /m/0cnk2q  /soccer/football_team/current_roster./sports/s...  /m/02nzb8"
            ],
            "text/html": [
              "\n",
              "  <div id=\"df-025da332-090e-4205-9579-90c583e2459d\">\n",
              "    <div class=\"colab-df-container\">\n",
              "      <div>\n",
              "<style scoped>\n",
              "    .dataframe tbody tr th:only-of-type {\n",
              "        vertical-align: middle;\n",
              "    }\n",
              "\n",
              "    .dataframe tbody tr th {\n",
              "        vertical-align: top;\n",
              "    }\n",
              "\n",
              "    .dataframe thead th {\n",
              "        text-align: right;\n",
              "    }\n",
              "</style>\n",
              "<table border=\"1\" class=\"dataframe\">\n",
              "  <thead>\n",
              "    <tr style=\"text-align: right;\">\n",
              "      <th></th>\n",
              "      <th>namecode1</th>\n",
              "      <th>title</th>\n",
              "      <th>namecode2</th>\n",
              "    </tr>\n",
              "  </thead>\n",
              "  <tbody>\n",
              "    <tr>\n",
              "      <th>0</th>\n",
              "      <td>/m/027rn</td>\n",
              "      <td>/location/country/form_of_government</td>\n",
              "      <td>/m/06cx9</td>\n",
              "    </tr>\n",
              "    <tr>\n",
              "      <th>1</th>\n",
              "      <td>/m/017dcd</td>\n",
              "      <td>/tv/tv_program/regular_cast./tv/regular_tv_app...</td>\n",
              "      <td>/m/06v8s0</td>\n",
              "    </tr>\n",
              "    <tr>\n",
              "      <th>2</th>\n",
              "      <td>/m/07s9rl0</td>\n",
              "      <td>/media_common/netflix_genre/titles</td>\n",
              "      <td>/m/0170z3</td>\n",
              "    </tr>\n",
              "    <tr>\n",
              "      <th>3</th>\n",
              "      <td>/m/01sl1q</td>\n",
              "      <td>/award/award_winner/awards_won./award/award_ho...</td>\n",
              "      <td>/m/044mz_</td>\n",
              "    </tr>\n",
              "    <tr>\n",
              "      <th>4</th>\n",
              "      <td>/m/0cnk2q</td>\n",
              "      <td>/soccer/football_team/current_roster./sports/s...</td>\n",
              "      <td>/m/02nzb8</td>\n",
              "    </tr>\n",
              "  </tbody>\n",
              "</table>\n",
              "</div>\n",
              "      <button class=\"colab-df-convert\" onclick=\"convertToInteractive('df-025da332-090e-4205-9579-90c583e2459d')\"\n",
              "              title=\"Convert this dataframe to an interactive table.\"\n",
              "              style=\"display:none;\">\n",
              "        \n",
              "  <svg xmlns=\"http://www.w3.org/2000/svg\" height=\"24px\"viewBox=\"0 0 24 24\"\n",
              "       width=\"24px\">\n",
              "    <path d=\"M0 0h24v24H0V0z\" fill=\"none\"/>\n",
              "    <path d=\"M18.56 5.44l.94 2.06.94-2.06 2.06-.94-2.06-.94-.94-2.06-.94 2.06-2.06.94zm-11 1L8.5 8.5l.94-2.06 2.06-.94-2.06-.94L8.5 2.5l-.94 2.06-2.06.94zm10 10l.94 2.06.94-2.06 2.06-.94-2.06-.94-.94-2.06-.94 2.06-2.06.94z\"/><path d=\"M17.41 7.96l-1.37-1.37c-.4-.4-.92-.59-1.43-.59-.52 0-1.04.2-1.43.59L10.3 9.45l-7.72 7.72c-.78.78-.78 2.05 0 2.83L4 21.41c.39.39.9.59 1.41.59.51 0 1.02-.2 1.41-.59l7.78-7.78 2.81-2.81c.8-.78.8-2.07 0-2.86zM5.41 20L4 18.59l7.72-7.72 1.47 1.35L5.41 20z\"/>\n",
              "  </svg>\n",
              "      </button>\n",
              "      \n",
              "  <style>\n",
              "    .colab-df-container {\n",
              "      display:flex;\n",
              "      flex-wrap:wrap;\n",
              "      gap: 12px;\n",
              "    }\n",
              "\n",
              "    .colab-df-convert {\n",
              "      background-color: #E8F0FE;\n",
              "      border: none;\n",
              "      border-radius: 50%;\n",
              "      cursor: pointer;\n",
              "      display: none;\n",
              "      fill: #1967D2;\n",
              "      height: 32px;\n",
              "      padding: 0 0 0 0;\n",
              "      width: 32px;\n",
              "    }\n",
              "\n",
              "    .colab-df-convert:hover {\n",
              "      background-color: #E2EBFA;\n",
              "      box-shadow: 0px 1px 2px rgba(60, 64, 67, 0.3), 0px 1px 3px 1px rgba(60, 64, 67, 0.15);\n",
              "      fill: #174EA6;\n",
              "    }\n",
              "\n",
              "    [theme=dark] .colab-df-convert {\n",
              "      background-color: #3B4455;\n",
              "      fill: #D2E3FC;\n",
              "    }\n",
              "\n",
              "    [theme=dark] .colab-df-convert:hover {\n",
              "      background-color: #434B5C;\n",
              "      box-shadow: 0px 1px 3px 1px rgba(0, 0, 0, 0.15);\n",
              "      filter: drop-shadow(0px 1px 2px rgba(0, 0, 0, 0.3));\n",
              "      fill: #FFFFFF;\n",
              "    }\n",
              "  </style>\n",
              "\n",
              "      <script>\n",
              "        const buttonEl =\n",
              "          document.querySelector('#df-025da332-090e-4205-9579-90c583e2459d button.colab-df-convert');\n",
              "        buttonEl.style.display =\n",
              "          google.colab.kernel.accessAllowed ? 'block' : 'none';\n",
              "\n",
              "        async function convertToInteractive(key) {\n",
              "          const element = document.querySelector('#df-025da332-090e-4205-9579-90c583e2459d');\n",
              "          const dataTable =\n",
              "            await google.colab.kernel.invokeFunction('convertToInteractive',\n",
              "                                                     [key], {});\n",
              "          if (!dataTable) return;\n",
              "\n",
              "          const docLinkHtml = 'Like what you see? Visit the ' +\n",
              "            '<a target=\"_blank\" href=https://colab.research.google.com/notebooks/data_table.ipynb>data table notebook</a>'\n",
              "            + ' to learn more about interactive tables.';\n",
              "          element.innerHTML = '';\n",
              "          dataTable['output_type'] = 'display_data';\n",
              "          await google.colab.output.renderOutput(dataTable, element);\n",
              "          const docLink = document.createElement('div');\n",
              "          docLink.innerHTML = docLinkHtml;\n",
              "          element.appendChild(docLink);\n",
              "        }\n",
              "      </script>\n",
              "    </div>\n",
              "  </div>\n",
              "  "
            ]
          },
          "metadata": {},
          "execution_count": 9
        }
      ]
    },
    {
      "cell_type": "code",
      "source": [
        "test = []\n",
        "for line in open('test.txt', 'r'):\n",
        "    test.append(line.replace('\\n','').split('\\t'))\n",
        "test = pd.DataFrame(test)\n",
        "test = test.rename(columns={0: \"namecode1\", 1: \"title\", 2: \"namecode2\"})\n",
        "test.head(5)"
      ],
      "metadata": {
        "colab": {
          "base_uri": "https://localhost:8080/",
          "height": 206
        },
        "id": "jqJrggODHlff",
        "outputId": "8805a4a9-9210-4e27-91e4-3fcbc94ef267"
      },
      "execution_count": 10,
      "outputs": [
        {
          "output_type": "execute_result",
          "data": {
            "text/plain": [
              "    namecode1                                              title  namecode2\n",
              "0    /m/08966  /travel/travel_destination/climate./travel/tra...   /m/05lf_\n",
              "1   /m/01hww_  /music/performance_role/regular_performances./...  /m/01q99h\n",
              "2  /m/09v3jyg  /film/film/release_date_s./film/film_regional_...  /m/0f8l9c\n",
              "3    /m/02jx1                        /location/location/contains  /m/013t85\n",
              "4    /m/02jx1                        /location/location/contains   /m/0m0bj"
            ],
            "text/html": [
              "\n",
              "  <div id=\"df-9ded07c4-64b6-4f8f-8539-693496449c76\">\n",
              "    <div class=\"colab-df-container\">\n",
              "      <div>\n",
              "<style scoped>\n",
              "    .dataframe tbody tr th:only-of-type {\n",
              "        vertical-align: middle;\n",
              "    }\n",
              "\n",
              "    .dataframe tbody tr th {\n",
              "        vertical-align: top;\n",
              "    }\n",
              "\n",
              "    .dataframe thead th {\n",
              "        text-align: right;\n",
              "    }\n",
              "</style>\n",
              "<table border=\"1\" class=\"dataframe\">\n",
              "  <thead>\n",
              "    <tr style=\"text-align: right;\">\n",
              "      <th></th>\n",
              "      <th>namecode1</th>\n",
              "      <th>title</th>\n",
              "      <th>namecode2</th>\n",
              "    </tr>\n",
              "  </thead>\n",
              "  <tbody>\n",
              "    <tr>\n",
              "      <th>0</th>\n",
              "      <td>/m/08966</td>\n",
              "      <td>/travel/travel_destination/climate./travel/tra...</td>\n",
              "      <td>/m/05lf_</td>\n",
              "    </tr>\n",
              "    <tr>\n",
              "      <th>1</th>\n",
              "      <td>/m/01hww_</td>\n",
              "      <td>/music/performance_role/regular_performances./...</td>\n",
              "      <td>/m/01q99h</td>\n",
              "    </tr>\n",
              "    <tr>\n",
              "      <th>2</th>\n",
              "      <td>/m/09v3jyg</td>\n",
              "      <td>/film/film/release_date_s./film/film_regional_...</td>\n",
              "      <td>/m/0f8l9c</td>\n",
              "    </tr>\n",
              "    <tr>\n",
              "      <th>3</th>\n",
              "      <td>/m/02jx1</td>\n",
              "      <td>/location/location/contains</td>\n",
              "      <td>/m/013t85</td>\n",
              "    </tr>\n",
              "    <tr>\n",
              "      <th>4</th>\n",
              "      <td>/m/02jx1</td>\n",
              "      <td>/location/location/contains</td>\n",
              "      <td>/m/0m0bj</td>\n",
              "    </tr>\n",
              "  </tbody>\n",
              "</table>\n",
              "</div>\n",
              "      <button class=\"colab-df-convert\" onclick=\"convertToInteractive('df-9ded07c4-64b6-4f8f-8539-693496449c76')\"\n",
              "              title=\"Convert this dataframe to an interactive table.\"\n",
              "              style=\"display:none;\">\n",
              "        \n",
              "  <svg xmlns=\"http://www.w3.org/2000/svg\" height=\"24px\"viewBox=\"0 0 24 24\"\n",
              "       width=\"24px\">\n",
              "    <path d=\"M0 0h24v24H0V0z\" fill=\"none\"/>\n",
              "    <path d=\"M18.56 5.44l.94 2.06.94-2.06 2.06-.94-2.06-.94-.94-2.06-.94 2.06-2.06.94zm-11 1L8.5 8.5l.94-2.06 2.06-.94-2.06-.94L8.5 2.5l-.94 2.06-2.06.94zm10 10l.94 2.06.94-2.06 2.06-.94-2.06-.94-.94-2.06-.94 2.06-2.06.94z\"/><path d=\"M17.41 7.96l-1.37-1.37c-.4-.4-.92-.59-1.43-.59-.52 0-1.04.2-1.43.59L10.3 9.45l-7.72 7.72c-.78.78-.78 2.05 0 2.83L4 21.41c.39.39.9.59 1.41.59.51 0 1.02-.2 1.41-.59l7.78-7.78 2.81-2.81c.8-.78.8-2.07 0-2.86zM5.41 20L4 18.59l7.72-7.72 1.47 1.35L5.41 20z\"/>\n",
              "  </svg>\n",
              "      </button>\n",
              "      \n",
              "  <style>\n",
              "    .colab-df-container {\n",
              "      display:flex;\n",
              "      flex-wrap:wrap;\n",
              "      gap: 12px;\n",
              "    }\n",
              "\n",
              "    .colab-df-convert {\n",
              "      background-color: #E8F0FE;\n",
              "      border: none;\n",
              "      border-radius: 50%;\n",
              "      cursor: pointer;\n",
              "      display: none;\n",
              "      fill: #1967D2;\n",
              "      height: 32px;\n",
              "      padding: 0 0 0 0;\n",
              "      width: 32px;\n",
              "    }\n",
              "\n",
              "    .colab-df-convert:hover {\n",
              "      background-color: #E2EBFA;\n",
              "      box-shadow: 0px 1px 2px rgba(60, 64, 67, 0.3), 0px 1px 3px 1px rgba(60, 64, 67, 0.15);\n",
              "      fill: #174EA6;\n",
              "    }\n",
              "\n",
              "    [theme=dark] .colab-df-convert {\n",
              "      background-color: #3B4455;\n",
              "      fill: #D2E3FC;\n",
              "    }\n",
              "\n",
              "    [theme=dark] .colab-df-convert:hover {\n",
              "      background-color: #434B5C;\n",
              "      box-shadow: 0px 1px 3px 1px rgba(0, 0, 0, 0.15);\n",
              "      filter: drop-shadow(0px 1px 2px rgba(0, 0, 0, 0.3));\n",
              "      fill: #FFFFFF;\n",
              "    }\n",
              "  </style>\n",
              "\n",
              "      <script>\n",
              "        const buttonEl =\n",
              "          document.querySelector('#df-9ded07c4-64b6-4f8f-8539-693496449c76 button.colab-df-convert');\n",
              "        buttonEl.style.display =\n",
              "          google.colab.kernel.accessAllowed ? 'block' : 'none';\n",
              "\n",
              "        async function convertToInteractive(key) {\n",
              "          const element = document.querySelector('#df-9ded07c4-64b6-4f8f-8539-693496449c76');\n",
              "          const dataTable =\n",
              "            await google.colab.kernel.invokeFunction('convertToInteractive',\n",
              "                                                     [key], {});\n",
              "          if (!dataTable) return;\n",
              "\n",
              "          const docLinkHtml = 'Like what you see? Visit the ' +\n",
              "            '<a target=\"_blank\" href=https://colab.research.google.com/notebooks/data_table.ipynb>data table notebook</a>'\n",
              "            + ' to learn more about interactive tables.';\n",
              "          element.innerHTML = '';\n",
              "          dataTable['output_type'] = 'display_data';\n",
              "          await google.colab.output.renderOutput(dataTable, element);\n",
              "          const docLink = document.createElement('div');\n",
              "          docLink.innerHTML = docLinkHtml;\n",
              "          element.appendChild(docLink);\n",
              "        }\n",
              "      </script>\n",
              "    </div>\n",
              "  </div>\n",
              "  "
            ]
          },
          "metadata": {},
          "execution_count": 10
        }
      ]
    },
    {
      "cell_type": "code",
      "source": [
        "valid = []\n",
        "for line in open('valid.txt', 'r'):\n",
        "    valid.append(line.replace('\\n','').split('\\t'))\n",
        "valid = pd.DataFrame(valid)\n",
        "valid = valid.rename(columns={0: \"namecode1\", 1: \"title\", 2: \"namecode2\"})\n",
        "valid.head(5)"
      ],
      "metadata": {
        "colab": {
          "base_uri": "https://localhost:8080/",
          "height": 206
        },
        "id": "Q1NjHGYMH9J-",
        "outputId": "dbca3ce4-5ab1-4c88-831d-2e5d75528611"
      },
      "execution_count": 11,
      "outputs": [
        {
          "output_type": "execute_result",
          "data": {
            "text/plain": [
              "    namecode1                                              title  namecode2\n",
              "0   /m/07pd_j                                   /film/film/genre  /m/02l7c8\n",
              "1    /m/06wxw                      /location/location/time_zones  /m/02fqwt\n",
              "2  /m/01t94_1  /people/person/spouse_s./people/marriage/type_...   /m/04ztj\n",
              "3  /m/02xcb6n  /award/award_category/winners./award/award_hon...  /m/04x4s2\n",
              "4   /m/07f_7h  /film/film/release_date_s./film/film_regional_...   /m/04gzd"
            ],
            "text/html": [
              "\n",
              "  <div id=\"df-c436fca0-f169-4f01-acbd-bad73070e855\">\n",
              "    <div class=\"colab-df-container\">\n",
              "      <div>\n",
              "<style scoped>\n",
              "    .dataframe tbody tr th:only-of-type {\n",
              "        vertical-align: middle;\n",
              "    }\n",
              "\n",
              "    .dataframe tbody tr th {\n",
              "        vertical-align: top;\n",
              "    }\n",
              "\n",
              "    .dataframe thead th {\n",
              "        text-align: right;\n",
              "    }\n",
              "</style>\n",
              "<table border=\"1\" class=\"dataframe\">\n",
              "  <thead>\n",
              "    <tr style=\"text-align: right;\">\n",
              "      <th></th>\n",
              "      <th>namecode1</th>\n",
              "      <th>title</th>\n",
              "      <th>namecode2</th>\n",
              "    </tr>\n",
              "  </thead>\n",
              "  <tbody>\n",
              "    <tr>\n",
              "      <th>0</th>\n",
              "      <td>/m/07pd_j</td>\n",
              "      <td>/film/film/genre</td>\n",
              "      <td>/m/02l7c8</td>\n",
              "    </tr>\n",
              "    <tr>\n",
              "      <th>1</th>\n",
              "      <td>/m/06wxw</td>\n",
              "      <td>/location/location/time_zones</td>\n",
              "      <td>/m/02fqwt</td>\n",
              "    </tr>\n",
              "    <tr>\n",
              "      <th>2</th>\n",
              "      <td>/m/01t94_1</td>\n",
              "      <td>/people/person/spouse_s./people/marriage/type_...</td>\n",
              "      <td>/m/04ztj</td>\n",
              "    </tr>\n",
              "    <tr>\n",
              "      <th>3</th>\n",
              "      <td>/m/02xcb6n</td>\n",
              "      <td>/award/award_category/winners./award/award_hon...</td>\n",
              "      <td>/m/04x4s2</td>\n",
              "    </tr>\n",
              "    <tr>\n",
              "      <th>4</th>\n",
              "      <td>/m/07f_7h</td>\n",
              "      <td>/film/film/release_date_s./film/film_regional_...</td>\n",
              "      <td>/m/04gzd</td>\n",
              "    </tr>\n",
              "  </tbody>\n",
              "</table>\n",
              "</div>\n",
              "      <button class=\"colab-df-convert\" onclick=\"convertToInteractive('df-c436fca0-f169-4f01-acbd-bad73070e855')\"\n",
              "              title=\"Convert this dataframe to an interactive table.\"\n",
              "              style=\"display:none;\">\n",
              "        \n",
              "  <svg xmlns=\"http://www.w3.org/2000/svg\" height=\"24px\"viewBox=\"0 0 24 24\"\n",
              "       width=\"24px\">\n",
              "    <path d=\"M0 0h24v24H0V0z\" fill=\"none\"/>\n",
              "    <path d=\"M18.56 5.44l.94 2.06.94-2.06 2.06-.94-2.06-.94-.94-2.06-.94 2.06-2.06.94zm-11 1L8.5 8.5l.94-2.06 2.06-.94-2.06-.94L8.5 2.5l-.94 2.06-2.06.94zm10 10l.94 2.06.94-2.06 2.06-.94-2.06-.94-.94-2.06-.94 2.06-2.06.94z\"/><path d=\"M17.41 7.96l-1.37-1.37c-.4-.4-.92-.59-1.43-.59-.52 0-1.04.2-1.43.59L10.3 9.45l-7.72 7.72c-.78.78-.78 2.05 0 2.83L4 21.41c.39.39.9.59 1.41.59.51 0 1.02-.2 1.41-.59l7.78-7.78 2.81-2.81c.8-.78.8-2.07 0-2.86zM5.41 20L4 18.59l7.72-7.72 1.47 1.35L5.41 20z\"/>\n",
              "  </svg>\n",
              "      </button>\n",
              "      \n",
              "  <style>\n",
              "    .colab-df-container {\n",
              "      display:flex;\n",
              "      flex-wrap:wrap;\n",
              "      gap: 12px;\n",
              "    }\n",
              "\n",
              "    .colab-df-convert {\n",
              "      background-color: #E8F0FE;\n",
              "      border: none;\n",
              "      border-radius: 50%;\n",
              "      cursor: pointer;\n",
              "      display: none;\n",
              "      fill: #1967D2;\n",
              "      height: 32px;\n",
              "      padding: 0 0 0 0;\n",
              "      width: 32px;\n",
              "    }\n",
              "\n",
              "    .colab-df-convert:hover {\n",
              "      background-color: #E2EBFA;\n",
              "      box-shadow: 0px 1px 2px rgba(60, 64, 67, 0.3), 0px 1px 3px 1px rgba(60, 64, 67, 0.15);\n",
              "      fill: #174EA6;\n",
              "    }\n",
              "\n",
              "    [theme=dark] .colab-df-convert {\n",
              "      background-color: #3B4455;\n",
              "      fill: #D2E3FC;\n",
              "    }\n",
              "\n",
              "    [theme=dark] .colab-df-convert:hover {\n",
              "      background-color: #434B5C;\n",
              "      box-shadow: 0px 1px 3px 1px rgba(0, 0, 0, 0.15);\n",
              "      filter: drop-shadow(0px 1px 2px rgba(0, 0, 0, 0.3));\n",
              "      fill: #FFFFFF;\n",
              "    }\n",
              "  </style>\n",
              "\n",
              "      <script>\n",
              "        const buttonEl =\n",
              "          document.querySelector('#df-c436fca0-f169-4f01-acbd-bad73070e855 button.colab-df-convert');\n",
              "        buttonEl.style.display =\n",
              "          google.colab.kernel.accessAllowed ? 'block' : 'none';\n",
              "\n",
              "        async function convertToInteractive(key) {\n",
              "          const element = document.querySelector('#df-c436fca0-f169-4f01-acbd-bad73070e855');\n",
              "          const dataTable =\n",
              "            await google.colab.kernel.invokeFunction('convertToInteractive',\n",
              "                                                     [key], {});\n",
              "          if (!dataTable) return;\n",
              "\n",
              "          const docLinkHtml = 'Like what you see? Visit the ' +\n",
              "            '<a target=\"_blank\" href=https://colab.research.google.com/notebooks/data_table.ipynb>data table notebook</a>'\n",
              "            + ' to learn more about interactive tables.';\n",
              "          element.innerHTML = '';\n",
              "          dataTable['output_type'] = 'display_data';\n",
              "          await google.colab.output.renderOutput(dataTable, element);\n",
              "          const docLink = document.createElement('div');\n",
              "          docLink.innerHTML = docLinkHtml;\n",
              "          element.appendChild(docLink);\n",
              "        }\n",
              "      </script>\n",
              "    </div>\n",
              "  </div>\n",
              "  "
            ]
          },
          "metadata": {},
          "execution_count": 11
        }
      ]
    },
    {
      "cell_type": "code",
      "source": [
        "def reset_index(df):\n",
        "    df = df.reset_index()\n",
        "    del df['index']\n",
        "    return df\n",
        "\n",
        "test = reset_index(test)\n",
        "train = reset_index(train)\n",
        "valid = reset_index(valid)"
      ],
      "metadata": {
        "id": "7E-ffM0Dwwrq"
      },
      "execution_count": 12,
      "outputs": []
    },
    {
      "cell_type": "markdown",
      "source": [
        "#preprocessing"
      ],
      "metadata": {
        "id": "NUNNhzLqKkXj"
      }
    },
    {
      "cell_type": "code",
      "source": [
        "nodes = list(set(des.namecode))"
      ],
      "metadata": {
        "id": "q7nzIm_9Je5S"
      },
      "execution_count": 13,
      "outputs": []
    },
    {
      "cell_type": "code",
      "source": [
        "len(nodes)"
      ],
      "metadata": {
        "colab": {
          "base_uri": "https://localhost:8080/"
        },
        "id": "_C8kXlX7J3Co",
        "outputId": "4123c138-13a4-4c6e-f00f-eae5c9f1cb21"
      },
      "execution_count": 14,
      "outputs": [
        {
          "output_type": "execute_result",
          "data": {
            "text/plain": [
              "14904"
            ]
          },
          "metadata": {},
          "execution_count": 14
        }
      ]
    },
    {
      "cell_type": "code",
      "source": [
        "des.head(5)"
      ],
      "metadata": {
        "colab": {
          "base_uri": "https://localhost:8080/",
          "height": 206
        },
        "id": "787w5KAtJ4nH",
        "outputId": "f6b37629-b6df-4891-a39b-a3cdbf1fda52"
      },
      "execution_count": 15,
      "outputs": [
        {
          "output_type": "execute_result",
          "data": {
            "text/plain": [
              "     namecode                                        description  \\\n",
              "0    /m/06rf7  schleswigholstein northernmost sixteen states ...   \n",
              "1   /m/0c94fn  gary roger rydstrom american sound designer di...   \n",
              "2   /m/016ywr  jeremy john irons english actor receiving clas...   \n",
              "3    /m/01yjl  chicago cubs professional baseball team locate...   \n",
              "4  /m/02hrh1q  actor person portraying character dramatic com...   \n",
              "\n",
              "                title                                               text  \\\n",
              "0  Schleswig-Holstein  schleswigholstein schleswigholstein northernmo...   \n",
              "1       Gary_Rydstrom  gary_rydstrom gary roger rydstrom american sou...   \n",
              "2        Jeremy_Irons  jeremy_irons jeremy john irons english actor r...   \n",
              "3        Chicago_Cubs  chicago_cubs chicago cubs professional basebal...   \n",
              "4            Actor-GB  actorgb actor person portraying character dram...   \n",
              "\n",
              "                                            embedded  \n",
              "0  [-0.5489803, 0.16440539, 0.66058505, -0.037717...  \n",
              "1  [-0.36805353, 1.2219998, 0.22228242, 0.5203364...  \n",
              "2  [-0.8121141, 0.7617216, 0.43965185, -0.0815964...  \n",
              "3  [-0.5676567, 0.1930804, -0.13923785, 0.4089947...  \n",
              "4  [0.30152893, 0.9061507, 0.70486355, 0.19482128...  "
            ],
            "text/html": [
              "\n",
              "  <div id=\"df-e557fd2d-248c-4b26-a086-4e2970c156f6\">\n",
              "    <div class=\"colab-df-container\">\n",
              "      <div>\n",
              "<style scoped>\n",
              "    .dataframe tbody tr th:only-of-type {\n",
              "        vertical-align: middle;\n",
              "    }\n",
              "\n",
              "    .dataframe tbody tr th {\n",
              "        vertical-align: top;\n",
              "    }\n",
              "\n",
              "    .dataframe thead th {\n",
              "        text-align: right;\n",
              "    }\n",
              "</style>\n",
              "<table border=\"1\" class=\"dataframe\">\n",
              "  <thead>\n",
              "    <tr style=\"text-align: right;\">\n",
              "      <th></th>\n",
              "      <th>namecode</th>\n",
              "      <th>description</th>\n",
              "      <th>title</th>\n",
              "      <th>text</th>\n",
              "      <th>embedded</th>\n",
              "    </tr>\n",
              "  </thead>\n",
              "  <tbody>\n",
              "    <tr>\n",
              "      <th>0</th>\n",
              "      <td>/m/06rf7</td>\n",
              "      <td>schleswigholstein northernmost sixteen states ...</td>\n",
              "      <td>Schleswig-Holstein</td>\n",
              "      <td>schleswigholstein schleswigholstein northernmo...</td>\n",
              "      <td>[-0.5489803, 0.16440539, 0.66058505, -0.037717...</td>\n",
              "    </tr>\n",
              "    <tr>\n",
              "      <th>1</th>\n",
              "      <td>/m/0c94fn</td>\n",
              "      <td>gary roger rydstrom american sound designer di...</td>\n",
              "      <td>Gary_Rydstrom</td>\n",
              "      <td>gary_rydstrom gary roger rydstrom american sou...</td>\n",
              "      <td>[-0.36805353, 1.2219998, 0.22228242, 0.5203364...</td>\n",
              "    </tr>\n",
              "    <tr>\n",
              "      <th>2</th>\n",
              "      <td>/m/016ywr</td>\n",
              "      <td>jeremy john irons english actor receiving clas...</td>\n",
              "      <td>Jeremy_Irons</td>\n",
              "      <td>jeremy_irons jeremy john irons english actor r...</td>\n",
              "      <td>[-0.8121141, 0.7617216, 0.43965185, -0.0815964...</td>\n",
              "    </tr>\n",
              "    <tr>\n",
              "      <th>3</th>\n",
              "      <td>/m/01yjl</td>\n",
              "      <td>chicago cubs professional baseball team locate...</td>\n",
              "      <td>Chicago_Cubs</td>\n",
              "      <td>chicago_cubs chicago cubs professional basebal...</td>\n",
              "      <td>[-0.5676567, 0.1930804, -0.13923785, 0.4089947...</td>\n",
              "    </tr>\n",
              "    <tr>\n",
              "      <th>4</th>\n",
              "      <td>/m/02hrh1q</td>\n",
              "      <td>actor person portraying character dramatic com...</td>\n",
              "      <td>Actor-GB</td>\n",
              "      <td>actorgb actor person portraying character dram...</td>\n",
              "      <td>[0.30152893, 0.9061507, 0.70486355, 0.19482128...</td>\n",
              "    </tr>\n",
              "  </tbody>\n",
              "</table>\n",
              "</div>\n",
              "      <button class=\"colab-df-convert\" onclick=\"convertToInteractive('df-e557fd2d-248c-4b26-a086-4e2970c156f6')\"\n",
              "              title=\"Convert this dataframe to an interactive table.\"\n",
              "              style=\"display:none;\">\n",
              "        \n",
              "  <svg xmlns=\"http://www.w3.org/2000/svg\" height=\"24px\"viewBox=\"0 0 24 24\"\n",
              "       width=\"24px\">\n",
              "    <path d=\"M0 0h24v24H0V0z\" fill=\"none\"/>\n",
              "    <path d=\"M18.56 5.44l.94 2.06.94-2.06 2.06-.94-2.06-.94-.94-2.06-.94 2.06-2.06.94zm-11 1L8.5 8.5l.94-2.06 2.06-.94-2.06-.94L8.5 2.5l-.94 2.06-2.06.94zm10 10l.94 2.06.94-2.06 2.06-.94-2.06-.94-.94-2.06-.94 2.06-2.06.94z\"/><path d=\"M17.41 7.96l-1.37-1.37c-.4-.4-.92-.59-1.43-.59-.52 0-1.04.2-1.43.59L10.3 9.45l-7.72 7.72c-.78.78-.78 2.05 0 2.83L4 21.41c.39.39.9.59 1.41.59.51 0 1.02-.2 1.41-.59l7.78-7.78 2.81-2.81c.8-.78.8-2.07 0-2.86zM5.41 20L4 18.59l7.72-7.72 1.47 1.35L5.41 20z\"/>\n",
              "  </svg>\n",
              "      </button>\n",
              "      \n",
              "  <style>\n",
              "    .colab-df-container {\n",
              "      display:flex;\n",
              "      flex-wrap:wrap;\n",
              "      gap: 12px;\n",
              "    }\n",
              "\n",
              "    .colab-df-convert {\n",
              "      background-color: #E8F0FE;\n",
              "      border: none;\n",
              "      border-radius: 50%;\n",
              "      cursor: pointer;\n",
              "      display: none;\n",
              "      fill: #1967D2;\n",
              "      height: 32px;\n",
              "      padding: 0 0 0 0;\n",
              "      width: 32px;\n",
              "    }\n",
              "\n",
              "    .colab-df-convert:hover {\n",
              "      background-color: #E2EBFA;\n",
              "      box-shadow: 0px 1px 2px rgba(60, 64, 67, 0.3), 0px 1px 3px 1px rgba(60, 64, 67, 0.15);\n",
              "      fill: #174EA6;\n",
              "    }\n",
              "\n",
              "    [theme=dark] .colab-df-convert {\n",
              "      background-color: #3B4455;\n",
              "      fill: #D2E3FC;\n",
              "    }\n",
              "\n",
              "    [theme=dark] .colab-df-convert:hover {\n",
              "      background-color: #434B5C;\n",
              "      box-shadow: 0px 1px 3px 1px rgba(0, 0, 0, 0.15);\n",
              "      filter: drop-shadow(0px 1px 2px rgba(0, 0, 0, 0.3));\n",
              "      fill: #FFFFFF;\n",
              "    }\n",
              "  </style>\n",
              "\n",
              "      <script>\n",
              "        const buttonEl =\n",
              "          document.querySelector('#df-e557fd2d-248c-4b26-a086-4e2970c156f6 button.colab-df-convert');\n",
              "        buttonEl.style.display =\n",
              "          google.colab.kernel.accessAllowed ? 'block' : 'none';\n",
              "\n",
              "        async function convertToInteractive(key) {\n",
              "          const element = document.querySelector('#df-e557fd2d-248c-4b26-a086-4e2970c156f6');\n",
              "          const dataTable =\n",
              "            await google.colab.kernel.invokeFunction('convertToInteractive',\n",
              "                                                     [key], {});\n",
              "          if (!dataTable) return;\n",
              "\n",
              "          const docLinkHtml = 'Like what you see? Visit the ' +\n",
              "            '<a target=\"_blank\" href=https://colab.research.google.com/notebooks/data_table.ipynb>data table notebook</a>'\n",
              "            + ' to learn more about interactive tables.';\n",
              "          element.innerHTML = '';\n",
              "          dataTable['output_type'] = 'display_data';\n",
              "          await google.colab.output.renderOutput(dataTable, element);\n",
              "          const docLink = document.createElement('div');\n",
              "          docLink.innerHTML = docLinkHtml;\n",
              "          element.appendChild(docLink);\n",
              "        }\n",
              "      </script>\n",
              "    </div>\n",
              "  </div>\n",
              "  "
            ]
          },
          "metadata": {},
          "execution_count": 15
        }
      ]
    },
    {
      "cell_type": "code",
      "source": [
        "tempa = des.namecode\n",
        "tempb = des.embedded\n",
        "d = {}\n",
        "for i in range(len(tempa)):\n",
        "    d[tempa[i]]=[np.array(tempb[i])]    "
      ],
      "metadata": {
        "id": "rOYf_Cp0XBj4"
      },
      "execution_count": 46,
      "outputs": []
    },
    {
      "cell_type": "markdown",
      "source": [
        "##train:"
      ],
      "metadata": {
        "id": "ODsljYo2L9zm"
      }
    },
    {
      "cell_type": "code",
      "source": [
        "num_of_gnn = 25"
      ],
      "metadata": {
        "id": "rAKW78jwX2yM"
      },
      "execution_count": 77,
      "outputs": []
    },
    {
      "cell_type": "code",
      "source": [
        "d2 = {}\n",
        "for k in list(d.keys()):\n",
        "    d2[k] = [d[k]]"
      ],
      "metadata": {
        "id": "JloDB4TApFKF"
      },
      "execution_count": 78,
      "outputs": []
    },
    {
      "cell_type": "code",
      "source": [
        "for _  in range(num_of_gnn):\n",
        "    print(\"round:\",_+1,\" all:\",num_of_gnn)\n",
        "\n",
        "    for k in tqdm(range(len(train))):\n",
        "        row = train.loc[i]\n",
        "        x = row[0]\n",
        "        y = row[2]\n",
        "        d2[x].append(d[y])\n",
        "        d2[y].append(d[x])\n",
        "\n",
        "    for k in tqdm(list(d.keys())):    \n",
        "        d[k]= [np.array(sum(d2[k][0]))/len(d2[k][0])]\n",
        "        d2[k]=[d[k]]\n"
      ],
      "metadata": {
        "colab": {
          "base_uri": "https://localhost:8080/"
        },
        "id": "6FDC06dXKCNY",
        "outputId": "2cdc7ed2-1732-4e3e-ead9-4051c6d89da2"
      },
      "execution_count": 79,
      "outputs": [
        {
          "output_type": "stream",
          "name": "stdout",
          "text": [
            "round: 1  all: 25\n"
          ]
        },
        {
          "output_type": "stream",
          "name": "stderr",
          "text": [
            "100%|██████████| 272115/272115 [00:18<00:00, 15101.25it/s]\n",
            "100%|██████████| 14904/14904 [00:00<00:00, 155108.70it/s]\n"
          ]
        },
        {
          "output_type": "stream",
          "name": "stdout",
          "text": [
            "round: 2  all: 25\n"
          ]
        },
        {
          "output_type": "stream",
          "name": "stderr",
          "text": [
            "100%|██████████| 272115/272115 [00:19<00:00, 14120.78it/s]\n",
            "100%|██████████| 14904/14904 [00:00<00:00, 165476.98it/s]\n"
          ]
        },
        {
          "output_type": "stream",
          "name": "stdout",
          "text": [
            "round: 3  all: 25\n"
          ]
        },
        {
          "output_type": "stream",
          "name": "stderr",
          "text": [
            "100%|██████████| 272115/272115 [00:18<00:00, 14954.76it/s]\n",
            "100%|██████████| 14904/14904 [00:00<00:00, 172737.79it/s]\n"
          ]
        },
        {
          "output_type": "stream",
          "name": "stdout",
          "text": [
            "round: 4  all: 25\n"
          ]
        },
        {
          "output_type": "stream",
          "name": "stderr",
          "text": [
            "100%|██████████| 272115/272115 [00:17<00:00, 15233.62it/s]\n",
            "100%|██████████| 14904/14904 [00:00<00:00, 171976.96it/s]\n"
          ]
        },
        {
          "output_type": "stream",
          "name": "stdout",
          "text": [
            "round: 5  all: 25\n"
          ]
        },
        {
          "output_type": "stream",
          "name": "stderr",
          "text": [
            "100%|██████████| 272115/272115 [00:17<00:00, 15275.16it/s]\n",
            "100%|██████████| 14904/14904 [00:00<00:00, 165124.23it/s]\n"
          ]
        },
        {
          "output_type": "stream",
          "name": "stdout",
          "text": [
            "round: 6  all: 25\n"
          ]
        },
        {
          "output_type": "stream",
          "name": "stderr",
          "text": [
            "100%|██████████| 272115/272115 [00:18<00:00, 15104.49it/s]\n",
            "100%|██████████| 14904/14904 [00:00<00:00, 158184.31it/s]\n"
          ]
        },
        {
          "output_type": "stream",
          "name": "stdout",
          "text": [
            "round: 7  all: 25\n"
          ]
        },
        {
          "output_type": "stream",
          "name": "stderr",
          "text": [
            "100%|██████████| 272115/272115 [00:17<00:00, 15242.46it/s]\n",
            "100%|██████████| 14904/14904 [00:00<00:00, 160621.78it/s]\n"
          ]
        },
        {
          "output_type": "stream",
          "name": "stdout",
          "text": [
            "round: 8  all: 25\n"
          ]
        },
        {
          "output_type": "stream",
          "name": "stderr",
          "text": [
            "100%|██████████| 272115/272115 [00:17<00:00, 15181.09it/s]\n",
            "100%|██████████| 14904/14904 [00:00<00:00, 167976.38it/s]\n"
          ]
        },
        {
          "output_type": "stream",
          "name": "stdout",
          "text": [
            "round: 9  all: 25\n"
          ]
        },
        {
          "output_type": "stream",
          "name": "stderr",
          "text": [
            "100%|██████████| 272115/272115 [00:18<00:00, 14883.80it/s]\n",
            "100%|██████████| 14904/14904 [00:00<00:00, 169610.75it/s]\n"
          ]
        },
        {
          "output_type": "stream",
          "name": "stdout",
          "text": [
            "round: 10  all: 25\n"
          ]
        },
        {
          "output_type": "stream",
          "name": "stderr",
          "text": [
            "100%|██████████| 272115/272115 [00:18<00:00, 15086.63it/s]\n",
            "100%|██████████| 14904/14904 [00:00<00:00, 161195.42it/s]\n"
          ]
        },
        {
          "output_type": "stream",
          "name": "stdout",
          "text": [
            "round: 11  all: 25\n"
          ]
        },
        {
          "output_type": "stream",
          "name": "stderr",
          "text": [
            "100%|██████████| 272115/272115 [00:19<00:00, 13964.85it/s]\n",
            "100%|██████████| 14904/14904 [00:00<00:00, 177626.98it/s]\n"
          ]
        },
        {
          "output_type": "stream",
          "name": "stdout",
          "text": [
            "round: 12  all: 25\n"
          ]
        },
        {
          "output_type": "stream",
          "name": "stderr",
          "text": [
            "100%|██████████| 272115/272115 [00:17<00:00, 15204.09it/s]\n",
            "100%|██████████| 14904/14904 [00:00<00:00, 171727.99it/s]\n"
          ]
        },
        {
          "output_type": "stream",
          "name": "stdout",
          "text": [
            "round: 13  all: 25\n"
          ]
        },
        {
          "output_type": "stream",
          "name": "stderr",
          "text": [
            "100%|██████████| 272115/272115 [00:18<00:00, 15110.61it/s]\n",
            "100%|██████████| 14904/14904 [00:00<00:00, 164129.25it/s]\n"
          ]
        },
        {
          "output_type": "stream",
          "name": "stdout",
          "text": [
            "round: 14  all: 25\n"
          ]
        },
        {
          "output_type": "stream",
          "name": "stderr",
          "text": [
            "100%|██████████| 272115/272115 [00:17<00:00, 15137.94it/s]\n",
            "100%|██████████| 14904/14904 [00:00<00:00, 157785.43it/s]\n"
          ]
        },
        {
          "output_type": "stream",
          "name": "stdout",
          "text": [
            "round: 15  all: 25\n"
          ]
        },
        {
          "output_type": "stream",
          "name": "stderr",
          "text": [
            "100%|██████████| 272115/272115 [00:17<00:00, 15302.82it/s]\n",
            "100%|██████████| 14904/14904 [00:00<00:00, 176018.97it/s]\n"
          ]
        },
        {
          "output_type": "stream",
          "name": "stdout",
          "text": [
            "round: 16  all: 25\n"
          ]
        },
        {
          "output_type": "stream",
          "name": "stderr",
          "text": [
            "100%|██████████| 272115/272115 [00:17<00:00, 15368.75it/s]\n",
            "100%|██████████| 14904/14904 [00:00<00:00, 157272.15it/s]\n"
          ]
        },
        {
          "output_type": "stream",
          "name": "stdout",
          "text": [
            "round: 17  all: 25\n"
          ]
        },
        {
          "output_type": "stream",
          "name": "stderr",
          "text": [
            "100%|██████████| 272115/272115 [00:17<00:00, 15160.14it/s]\n",
            "100%|██████████| 14904/14904 [00:00<00:00, 163372.59it/s]\n"
          ]
        },
        {
          "output_type": "stream",
          "name": "stdout",
          "text": [
            "round: 18  all: 25\n"
          ]
        },
        {
          "output_type": "stream",
          "name": "stderr",
          "text": [
            "100%|██████████| 272115/272115 [00:17<00:00, 15186.54it/s]\n",
            "100%|██████████| 14904/14904 [00:00<00:00, 164648.00it/s]\n"
          ]
        },
        {
          "output_type": "stream",
          "name": "stdout",
          "text": [
            "round: 19  all: 25\n"
          ]
        },
        {
          "output_type": "stream",
          "name": "stderr",
          "text": [
            "100%|██████████| 272115/272115 [00:17<00:00, 15263.08it/s]\n",
            "100%|██████████| 14904/14904 [00:00<00:00, 166109.73it/s]\n"
          ]
        },
        {
          "output_type": "stream",
          "name": "stdout",
          "text": [
            "round: 20  all: 25\n"
          ]
        },
        {
          "output_type": "stream",
          "name": "stderr",
          "text": [
            "100%|██████████| 272115/272115 [00:17<00:00, 15218.33it/s]\n",
            "100%|██████████| 14904/14904 [00:00<00:00, 173960.21it/s]\n"
          ]
        },
        {
          "output_type": "stream",
          "name": "stdout",
          "text": [
            "round: 21  all: 25\n"
          ]
        },
        {
          "output_type": "stream",
          "name": "stderr",
          "text": [
            "100%|██████████| 272115/272115 [00:17<00:00, 15194.08it/s]\n",
            "100%|██████████| 14904/14904 [00:00<00:00, 176642.20it/s]\n"
          ]
        },
        {
          "output_type": "stream",
          "name": "stdout",
          "text": [
            "round: 22  all: 25\n"
          ]
        },
        {
          "output_type": "stream",
          "name": "stderr",
          "text": [
            "100%|██████████| 272115/272115 [00:17<00:00, 15262.98it/s]\n",
            "100%|██████████| 14904/14904 [00:00<00:00, 165570.77it/s]\n"
          ]
        },
        {
          "output_type": "stream",
          "name": "stdout",
          "text": [
            "round: 23  all: 25\n"
          ]
        },
        {
          "output_type": "stream",
          "name": "stderr",
          "text": [
            "100%|██████████| 272115/272115 [00:17<00:00, 15118.33it/s]\n",
            "100%|██████████| 14904/14904 [00:00<00:00, 171031.68it/s]\n"
          ]
        },
        {
          "output_type": "stream",
          "name": "stdout",
          "text": [
            "round: 24  all: 25\n"
          ]
        },
        {
          "output_type": "stream",
          "name": "stderr",
          "text": [
            "100%|██████████| 272115/272115 [00:19<00:00, 14040.16it/s]\n",
            "100%|██████████| 14904/14904 [00:00<00:00, 158502.37it/s]\n"
          ]
        },
        {
          "output_type": "stream",
          "name": "stdout",
          "text": [
            "round: 25  all: 25\n"
          ]
        },
        {
          "output_type": "stream",
          "name": "stderr",
          "text": [
            "100%|██████████| 272115/272115 [00:17<00:00, 15262.17it/s]\n",
            "100%|██████████| 14904/14904 [00:00<00:00, 152614.72it/s]\n"
          ]
        }
      ]
    },
    {
      "cell_type": "code",
      "source": [
        ""
      ],
      "metadata": {
        "id": "gIkBvjExw9xT"
      },
      "execution_count": null,
      "outputs": []
    },
    {
      "cell_type": "code",
      "source": [
        "print(len(d2[k]))\n",
        "print(type(d2[k]))\n",
        "print('-------')\n",
        "print(len(d[k]))\n",
        "print(type(d[k]))"
      ],
      "metadata": {
        "colab": {
          "base_uri": "https://localhost:8080/"
        },
        "id": "g4QZ5QIBaG0I",
        "outputId": "0919885f-b284-470a-964f-6703686626ec"
      },
      "execution_count": 51,
      "outputs": [
        {
          "output_type": "stream",
          "name": "stdout",
          "text": [
            "1\n",
            "<class 'list'>\n",
            "-------\n",
            "1\n",
            "<class 'list'>\n"
          ]
        }
      ]
    },
    {
      "cell_type": "markdown",
      "source": [
        "## test"
      ],
      "metadata": {
        "id": "-gBl2EOfL_zG"
      }
    },
    {
      "cell_type": "code",
      "source": [
        "from sklearn.metrics.pairwise import cosine_similarity\n",
        "# cosine_similarity([d2[k]],[d2[list(d.keys())[0]]])"
      ],
      "metadata": {
        "id": "z40BnzqbOMP8"
      },
      "execution_count": 52,
      "outputs": []
    },
    {
      "cell_type": "code",
      "source": [
        "def similarity(x,y):\n",
        "    try:\n",
        "        return cosine_similarity([x],[y])[0][0]\n",
        "    except:\n",
        "        return cosine_similarity(x[0],y[0])[0][0]"
      ],
      "metadata": {
        "id": "dJoUm7KxNp5M"
      },
      "execution_count": 70,
      "outputs": []
    },
    {
      "cell_type": "code",
      "source": [
        "import warnings\n",
        "warnings.filterwarnings(\"ignore\")"
      ],
      "metadata": {
        "id": "qoeoA7Y4jalT"
      },
      "execution_count": 80,
      "outputs": []
    },
    {
      "cell_type": "code",
      "source": [
        "truecounter = 0\n",
        "coldstart = 0\n",
        "for i in tqdm(range(len(test))):\n",
        "    row = train.loc[i]\n",
        "    x = row[0]\n",
        "    y = row[2]\n",
        "\n",
        "    while(True):\n",
        "        z = random.randint(0,len(des)-1)\n",
        "        if  len(test[test.namecode1==x][test.namecode2==des.loc[z][0]])==0:\n",
        "            try:\n",
        "                s1 = similarity(d2[x],d2[y])\n",
        "            except:\n",
        "                coldstart+=1\n",
        "                s1 = 0\n",
        "\n",
        "            try:\n",
        "                s2 = similarity(d2[x],d2[des.loc[z][0]])\n",
        "            except:\n",
        "                coldstart+=1\n",
        "                s2 = 0\n",
        "            break\n",
        "    \n",
        "\n",
        "    if s1>s2:\n",
        "        truecounter += 1\n",
        "    \n",
        "f = len(test)-truecounter\n",
        "t = truecounter\n",
        "print(\"\\n\\ncoldstart= \",coldstart)\n",
        "print(t,f,int(100*t/(t+f)))\n"
      ],
      "metadata": {
        "colab": {
          "base_uri": "https://localhost:8080/"
        },
        "id": "_LRHVBU8KWxA",
        "outputId": "fe23d722-d204-4ee7-cf93-6a72186461cc"
      },
      "execution_count": 81,
      "outputs": [
        {
          "output_type": "stream",
          "name": "stderr",
          "text": [
            "100%|██████████| 20466/20466 [01:39<00:00, 206.04it/s]"
          ]
        },
        {
          "output_type": "stream",
          "name": "stdout",
          "text": [
            "\n",
            "\n",
            "coldstart=  103\n",
            "13758 6708 67\n"
          ]
        },
        {
          "output_type": "stream",
          "name": "stderr",
          "text": [
            "\n"
          ]
        }
      ]
    },
    {
      "cell_type": "markdown",
      "source": [
        "num of gnn = 1\n",
        "\n",
        "    test1: 62% \n",
        "    test2: 63%\n",
        "\n",
        "num of gnn = 5\n",
        "\n",
        "    test1: 66% \n",
        "\n",
        "num of gnn = 15\n",
        "\n",
        "    test1: 67% "
      ],
      "metadata": {
        "id": "H4ndzM-qRozA"
      }
    },
    {
      "cell_type": "code",
      "source": [
        "similarity(d2[x],d2[y])"
      ],
      "metadata": {
        "colab": {
          "base_uri": "https://localhost:8080/"
        },
        "id": "ZjYKgPi5kjXe",
        "outputId": "ef29d8e1-aaa0-476e-c1b8-92949fdba5f9"
      },
      "execution_count": 82,
      "outputs": [
        {
          "output_type": "execute_result",
          "data": {
            "text/plain": [
              "0.6324043"
            ]
          },
          "metadata": {},
          "execution_count": 82
        }
      ]
    },
    {
      "cell_type": "code",
      "source": [
        ""
      ],
      "metadata": {
        "id": "vP1HNA6-sxWH"
      },
      "execution_count": null,
      "outputs": []
    }
  ]
}
