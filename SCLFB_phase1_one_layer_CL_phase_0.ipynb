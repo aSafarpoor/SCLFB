{
  "nbformat": 4,
  "nbformat_minor": 0,
  "metadata": {
    "colab": {
      "name": "SCLFB phase1 one layer CL phase 0.ipynb",
      "provenance": [],
      "collapsed_sections": [],
      "authorship_tag": "ABX9TyNNTa64ftTaE//ClNPZVaYp",
      "include_colab_link": true
    },
    "kernelspec": {
      "name": "python3",
      "display_name": "Python 3"
    },
    "language_info": {
      "name": "python"
    },
    "gpuClass": "standard"
  },
  "cells": [
    {
      "cell_type": "markdown",
      "metadata": {
        "id": "view-in-github",
        "colab_type": "text"
      },
      "source": [
        "<a href=\"https://colab.research.google.com/github/aSafarpoor/SCLFB/blob/main/SCLFB_phase1_one_layer_CL_phase_0.ipynb\" target=\"_parent\"><img src=\"https://colab.research.google.com/assets/colab-badge.svg\" alt=\"Open In Colab\"/></a>"
      ]
    },
    {
      "cell_type": "code",
      "source": [
        "import numpy as np\n",
        "import pandas as pd\n",
        "from matplotlib import pyplot as plt\n",
        "from tqdm import tqdm\n",
        "import pickle\n",
        "import random\n",
        "import json\n",
        "import re\n",
        "import nltk\n",
        "nltk.download('stopwords')\n",
        "from nltk.corpus import stopwords\n",
        "import math\n",
        "import cv2\n",
        "from google.colab.patches import cv2_imshow\n",
        "import os"
      ],
      "metadata": {
        "colab": {
          "base_uri": "https://localhost:8080/"
        },
        "id": "G5wGoRBMFH3K",
        "outputId": "e9e6d06d-975d-4816-8dd8-8b92ba9d5b73"
      },
      "execution_count": 2,
      "outputs": [
        {
          "output_type": "stream",
          "name": "stderr",
          "text": [
            "[nltk_data] Downloading package stopwords to /root/nltk_data...\n",
            "[nltk_data]   Package stopwords is already up-to-date!\n"
          ]
        }
      ]
    },
    {
      "cell_type": "code",
      "source": [
        "tqdm.pandas()"
      ],
      "metadata": {
        "id": "xZxNr2DmLN_8"
      },
      "execution_count": 3,
      "outputs": []
    },
    {
      "cell_type": "markdown",
      "source": [
        "#go to path"
      ],
      "metadata": {
        "id": "m2Hd85d9KzQ7"
      }
    },
    {
      "cell_type": "code",
      "source": [
        "from google.colab import drive\n",
        "drive.mount('/content/drive')"
      ],
      "metadata": {
        "colab": {
          "base_uri": "https://localhost:8080/"
        },
        "id": "3PHbCJrXDBAk",
        "outputId": "247a9971-6ae5-40b7-e6dc-9badd28c9dbd"
      },
      "execution_count": 4,
      "outputs": [
        {
          "output_type": "stream",
          "name": "stdout",
          "text": [
            "Drive already mounted at /content/drive; to attempt to forcibly remount, call drive.mount(\"/content/drive\", force_remount=True).\n"
          ]
        }
      ]
    },
    {
      "cell_type": "code",
      "source": [
        "%cd drive/MyDrive/MSc/SCLAD/\n",
        "# %mkdir FB15k237\n",
        "%cd FB15k237"
      ],
      "metadata": {
        "colab": {
          "base_uri": "https://localhost:8080/"
        },
        "id": "Val8bsLzDbss",
        "outputId": "43fe2b19-bfb2-41c3-d827-8f54319a5d35"
      },
      "execution_count": 5,
      "outputs": [
        {
          "output_type": "stream",
          "name": "stdout",
          "text": [
            "/content/drive/MyDrive/MSc/SCLAD\n",
            "/content/drive/MyDrive/MSc/SCLAD/FB15k237\n"
          ]
        }
      ]
    },
    {
      "cell_type": "markdown",
      "source": [
        "#read data"
      ],
      "metadata": {
        "id": "sdG3jF7zKhYt"
      }
    },
    {
      "cell_type": "code",
      "execution_count": 6,
      "metadata": {
        "id": "neo8h2AWCjDg"
      },
      "outputs": [],
      "source": [
        "# !wget https://raw.githubusercontent.com/intfloat/SimKGC/main/data/FB15k237/FB15k_mid2name.txt\n",
        "# !wget https://raw.githubusercontent.com/intfloat/SimKGC/main/data/FB15k237/FB15k_mid2description.txt\n",
        "# !wget https://raw.githubusercontent.com/intfloat/SimKGC/main/data/FB15k237/test.txt\n",
        "# !wget https://raw.githubusercontent.com/intfloat/SimKGC/main/data/FB15k237/train.txt\n",
        "# !wget https://raw.githubusercontent.com/intfloat/SimKGC/main/data/FB15k237/valid.txt"
      ]
    },
    {
      "cell_type": "code",
      "source": [
        "!ls"
      ],
      "metadata": {
        "colab": {
          "base_uri": "https://localhost:8080/"
        },
        "id": "r3MB7nD9D_1T",
        "outputId": "41591942-723d-48f6-a3b3-c03bd2beafd8"
      },
      "execution_count": 7,
      "outputs": [
        {
          "output_type": "stream",
          "name": "stdout",
          "text": [
            " des.p\t\t\t     valid.txt\n",
            " FB15k_mid2description.txt  'x part1 p&n samples.pkl'\n",
            " FB15k_mid2name.txt\t    'x part2 p&n samples.pkl'\n",
            " sim.pkl\t\t    'x test part1 p&n samples.pkl'\n",
            " test.pkl\t\t    'y part1 p&n samples.pkl'\n",
            " test.txt\t\t    'y part2 p&n samples.pkl'\n",
            " train.txt\t\t    'y test part1 p&n samples.pkl'\n"
          ]
        }
      ]
    },
    {
      "cell_type": "code",
      "source": [
        "with open('des.p','rb') as f:\n",
        "     des = pickle.load(f)\n",
        "\n",
        "des.head(3)"
      ],
      "metadata": {
        "id": "faXWmqnlECQi",
        "colab": {
          "base_uri": "https://localhost:8080/",
          "height": 240
        },
        "outputId": "2df47048-b939-47fb-dee0-fc3bc61e6ce5"
      },
      "execution_count": 8,
      "outputs": [
        {
          "output_type": "execute_result",
          "data": {
            "text/plain": [
              "    namecode                                        description  \\\n",
              "0   /m/06rf7  schleswigholstein northernmost sixteen states ...   \n",
              "1  /m/0c94fn  gary roger rydstrom american sound designer di...   \n",
              "2  /m/016ywr  jeremy john irons english actor receiving clas...   \n",
              "\n",
              "                title                                               text  \\\n",
              "0  Schleswig-Holstein  schleswigholstein schleswigholstein northernmo...   \n",
              "1       Gary_Rydstrom  gary_rydstrom gary roger rydstrom american sou...   \n",
              "2        Jeremy_Irons  jeremy_irons jeremy john irons english actor r...   \n",
              "\n",
              "                                            embedded  \n",
              "0  [-0.5489803, 0.16440539, 0.66058505, -0.037717...  \n",
              "1  [-0.36805353, 1.2219998, 0.22228242, 0.5203364...  \n",
              "2  [-0.8121141, 0.7617216, 0.43965185, -0.0815964...  "
            ],
            "text/html": [
              "\n",
              "  <div id=\"df-29632862-55fb-4fc5-8538-4664b06ad76b\">\n",
              "    <div class=\"colab-df-container\">\n",
              "      <div>\n",
              "<style scoped>\n",
              "    .dataframe tbody tr th:only-of-type {\n",
              "        vertical-align: middle;\n",
              "    }\n",
              "\n",
              "    .dataframe tbody tr th {\n",
              "        vertical-align: top;\n",
              "    }\n",
              "\n",
              "    .dataframe thead th {\n",
              "        text-align: right;\n",
              "    }\n",
              "</style>\n",
              "<table border=\"1\" class=\"dataframe\">\n",
              "  <thead>\n",
              "    <tr style=\"text-align: right;\">\n",
              "      <th></th>\n",
              "      <th>namecode</th>\n",
              "      <th>description</th>\n",
              "      <th>title</th>\n",
              "      <th>text</th>\n",
              "      <th>embedded</th>\n",
              "    </tr>\n",
              "  </thead>\n",
              "  <tbody>\n",
              "    <tr>\n",
              "      <th>0</th>\n",
              "      <td>/m/06rf7</td>\n",
              "      <td>schleswigholstein northernmost sixteen states ...</td>\n",
              "      <td>Schleswig-Holstein</td>\n",
              "      <td>schleswigholstein schleswigholstein northernmo...</td>\n",
              "      <td>[-0.5489803, 0.16440539, 0.66058505, -0.037717...</td>\n",
              "    </tr>\n",
              "    <tr>\n",
              "      <th>1</th>\n",
              "      <td>/m/0c94fn</td>\n",
              "      <td>gary roger rydstrom american sound designer di...</td>\n",
              "      <td>Gary_Rydstrom</td>\n",
              "      <td>gary_rydstrom gary roger rydstrom american sou...</td>\n",
              "      <td>[-0.36805353, 1.2219998, 0.22228242, 0.5203364...</td>\n",
              "    </tr>\n",
              "    <tr>\n",
              "      <th>2</th>\n",
              "      <td>/m/016ywr</td>\n",
              "      <td>jeremy john irons english actor receiving clas...</td>\n",
              "      <td>Jeremy_Irons</td>\n",
              "      <td>jeremy_irons jeremy john irons english actor r...</td>\n",
              "      <td>[-0.8121141, 0.7617216, 0.43965185, -0.0815964...</td>\n",
              "    </tr>\n",
              "  </tbody>\n",
              "</table>\n",
              "</div>\n",
              "      <button class=\"colab-df-convert\" onclick=\"convertToInteractive('df-29632862-55fb-4fc5-8538-4664b06ad76b')\"\n",
              "              title=\"Convert this dataframe to an interactive table.\"\n",
              "              style=\"display:none;\">\n",
              "        \n",
              "  <svg xmlns=\"http://www.w3.org/2000/svg\" height=\"24px\"viewBox=\"0 0 24 24\"\n",
              "       width=\"24px\">\n",
              "    <path d=\"M0 0h24v24H0V0z\" fill=\"none\"/>\n",
              "    <path d=\"M18.56 5.44l.94 2.06.94-2.06 2.06-.94-2.06-.94-.94-2.06-.94 2.06-2.06.94zm-11 1L8.5 8.5l.94-2.06 2.06-.94-2.06-.94L8.5 2.5l-.94 2.06-2.06.94zm10 10l.94 2.06.94-2.06 2.06-.94-2.06-.94-.94-2.06-.94 2.06-2.06.94z\"/><path d=\"M17.41 7.96l-1.37-1.37c-.4-.4-.92-.59-1.43-.59-.52 0-1.04.2-1.43.59L10.3 9.45l-7.72 7.72c-.78.78-.78 2.05 0 2.83L4 21.41c.39.39.9.59 1.41.59.51 0 1.02-.2 1.41-.59l7.78-7.78 2.81-2.81c.8-.78.8-2.07 0-2.86zM5.41 20L4 18.59l7.72-7.72 1.47 1.35L5.41 20z\"/>\n",
              "  </svg>\n",
              "      </button>\n",
              "      \n",
              "  <style>\n",
              "    .colab-df-container {\n",
              "      display:flex;\n",
              "      flex-wrap:wrap;\n",
              "      gap: 12px;\n",
              "    }\n",
              "\n",
              "    .colab-df-convert {\n",
              "      background-color: #E8F0FE;\n",
              "      border: none;\n",
              "      border-radius: 50%;\n",
              "      cursor: pointer;\n",
              "      display: none;\n",
              "      fill: #1967D2;\n",
              "      height: 32px;\n",
              "      padding: 0 0 0 0;\n",
              "      width: 32px;\n",
              "    }\n",
              "\n",
              "    .colab-df-convert:hover {\n",
              "      background-color: #E2EBFA;\n",
              "      box-shadow: 0px 1px 2px rgba(60, 64, 67, 0.3), 0px 1px 3px 1px rgba(60, 64, 67, 0.15);\n",
              "      fill: #174EA6;\n",
              "    }\n",
              "\n",
              "    [theme=dark] .colab-df-convert {\n",
              "      background-color: #3B4455;\n",
              "      fill: #D2E3FC;\n",
              "    }\n",
              "\n",
              "    [theme=dark] .colab-df-convert:hover {\n",
              "      background-color: #434B5C;\n",
              "      box-shadow: 0px 1px 3px 1px rgba(0, 0, 0, 0.15);\n",
              "      filter: drop-shadow(0px 1px 2px rgba(0, 0, 0, 0.3));\n",
              "      fill: #FFFFFF;\n",
              "    }\n",
              "  </style>\n",
              "\n",
              "      <script>\n",
              "        const buttonEl =\n",
              "          document.querySelector('#df-29632862-55fb-4fc5-8538-4664b06ad76b button.colab-df-convert');\n",
              "        buttonEl.style.display =\n",
              "          google.colab.kernel.accessAllowed ? 'block' : 'none';\n",
              "\n",
              "        async function convertToInteractive(key) {\n",
              "          const element = document.querySelector('#df-29632862-55fb-4fc5-8538-4664b06ad76b');\n",
              "          const dataTable =\n",
              "            await google.colab.kernel.invokeFunction('convertToInteractive',\n",
              "                                                     [key], {});\n",
              "          if (!dataTable) return;\n",
              "\n",
              "          const docLinkHtml = 'Like what you see? Visit the ' +\n",
              "            '<a target=\"_blank\" href=https://colab.research.google.com/notebooks/data_table.ipynb>data table notebook</a>'\n",
              "            + ' to learn more about interactive tables.';\n",
              "          element.innerHTML = '';\n",
              "          dataTable['output_type'] = 'display_data';\n",
              "          await google.colab.output.renderOutput(dataTable, element);\n",
              "          const docLink = document.createElement('div');\n",
              "          docLink.innerHTML = docLinkHtml;\n",
              "          element.appendChild(docLink);\n",
              "        }\n",
              "      </script>\n",
              "    </div>\n",
              "  </div>\n",
              "  "
            ]
          },
          "metadata": {},
          "execution_count": 8
        }
      ]
    },
    {
      "cell_type": "code",
      "source": [
        "dfname = []\n",
        "for line in open('FB15k_mid2name.txt', 'r'):\n",
        "    dfname.append(line.replace('\\n','').split('\\t'))\n",
        "dfname = pd.DataFrame(dfname)\n",
        "dfname = dfname.rename(columns={0: \"namecode\", 1: \"title\"})\n",
        "dfname.head(5)"
      ],
      "metadata": {
        "colab": {
          "base_uri": "https://localhost:8080/",
          "height": 206
        },
        "id": "qqZ2yR8bFiVx",
        "outputId": "e043b64a-05ae-4eed-88ed-4295b16de689"
      },
      "execution_count": 9,
      "outputs": [
        {
          "output_type": "execute_result",
          "data": {
            "text/plain": [
              "     namecode               title\n",
              "0    /m/06rf7  Schleswig-Holstein\n",
              "1   /m/0c94fn       Gary_Rydstrom\n",
              "2   /m/016ywr        Jeremy_Irons\n",
              "3    /m/01yjl        Chicago_Cubs\n",
              "4  /m/02hrh1q            Actor-GB"
            ],
            "text/html": [
              "\n",
              "  <div id=\"df-19da8750-daf9-49db-8077-b580ebbf2c6c\">\n",
              "    <div class=\"colab-df-container\">\n",
              "      <div>\n",
              "<style scoped>\n",
              "    .dataframe tbody tr th:only-of-type {\n",
              "        vertical-align: middle;\n",
              "    }\n",
              "\n",
              "    .dataframe tbody tr th {\n",
              "        vertical-align: top;\n",
              "    }\n",
              "\n",
              "    .dataframe thead th {\n",
              "        text-align: right;\n",
              "    }\n",
              "</style>\n",
              "<table border=\"1\" class=\"dataframe\">\n",
              "  <thead>\n",
              "    <tr style=\"text-align: right;\">\n",
              "      <th></th>\n",
              "      <th>namecode</th>\n",
              "      <th>title</th>\n",
              "    </tr>\n",
              "  </thead>\n",
              "  <tbody>\n",
              "    <tr>\n",
              "      <th>0</th>\n",
              "      <td>/m/06rf7</td>\n",
              "      <td>Schleswig-Holstein</td>\n",
              "    </tr>\n",
              "    <tr>\n",
              "      <th>1</th>\n",
              "      <td>/m/0c94fn</td>\n",
              "      <td>Gary_Rydstrom</td>\n",
              "    </tr>\n",
              "    <tr>\n",
              "      <th>2</th>\n",
              "      <td>/m/016ywr</td>\n",
              "      <td>Jeremy_Irons</td>\n",
              "    </tr>\n",
              "    <tr>\n",
              "      <th>3</th>\n",
              "      <td>/m/01yjl</td>\n",
              "      <td>Chicago_Cubs</td>\n",
              "    </tr>\n",
              "    <tr>\n",
              "      <th>4</th>\n",
              "      <td>/m/02hrh1q</td>\n",
              "      <td>Actor-GB</td>\n",
              "    </tr>\n",
              "  </tbody>\n",
              "</table>\n",
              "</div>\n",
              "      <button class=\"colab-df-convert\" onclick=\"convertToInteractive('df-19da8750-daf9-49db-8077-b580ebbf2c6c')\"\n",
              "              title=\"Convert this dataframe to an interactive table.\"\n",
              "              style=\"display:none;\">\n",
              "        \n",
              "  <svg xmlns=\"http://www.w3.org/2000/svg\" height=\"24px\"viewBox=\"0 0 24 24\"\n",
              "       width=\"24px\">\n",
              "    <path d=\"M0 0h24v24H0V0z\" fill=\"none\"/>\n",
              "    <path d=\"M18.56 5.44l.94 2.06.94-2.06 2.06-.94-2.06-.94-.94-2.06-.94 2.06-2.06.94zm-11 1L8.5 8.5l.94-2.06 2.06-.94-2.06-.94L8.5 2.5l-.94 2.06-2.06.94zm10 10l.94 2.06.94-2.06 2.06-.94-2.06-.94-.94-2.06-.94 2.06-2.06.94z\"/><path d=\"M17.41 7.96l-1.37-1.37c-.4-.4-.92-.59-1.43-.59-.52 0-1.04.2-1.43.59L10.3 9.45l-7.72 7.72c-.78.78-.78 2.05 0 2.83L4 21.41c.39.39.9.59 1.41.59.51 0 1.02-.2 1.41-.59l7.78-7.78 2.81-2.81c.8-.78.8-2.07 0-2.86zM5.41 20L4 18.59l7.72-7.72 1.47 1.35L5.41 20z\"/>\n",
              "  </svg>\n",
              "      </button>\n",
              "      \n",
              "  <style>\n",
              "    .colab-df-container {\n",
              "      display:flex;\n",
              "      flex-wrap:wrap;\n",
              "      gap: 12px;\n",
              "    }\n",
              "\n",
              "    .colab-df-convert {\n",
              "      background-color: #E8F0FE;\n",
              "      border: none;\n",
              "      border-radius: 50%;\n",
              "      cursor: pointer;\n",
              "      display: none;\n",
              "      fill: #1967D2;\n",
              "      height: 32px;\n",
              "      padding: 0 0 0 0;\n",
              "      width: 32px;\n",
              "    }\n",
              "\n",
              "    .colab-df-convert:hover {\n",
              "      background-color: #E2EBFA;\n",
              "      box-shadow: 0px 1px 2px rgba(60, 64, 67, 0.3), 0px 1px 3px 1px rgba(60, 64, 67, 0.15);\n",
              "      fill: #174EA6;\n",
              "    }\n",
              "\n",
              "    [theme=dark] .colab-df-convert {\n",
              "      background-color: #3B4455;\n",
              "      fill: #D2E3FC;\n",
              "    }\n",
              "\n",
              "    [theme=dark] .colab-df-convert:hover {\n",
              "      background-color: #434B5C;\n",
              "      box-shadow: 0px 1px 3px 1px rgba(0, 0, 0, 0.15);\n",
              "      filter: drop-shadow(0px 1px 2px rgba(0, 0, 0, 0.3));\n",
              "      fill: #FFFFFF;\n",
              "    }\n",
              "  </style>\n",
              "\n",
              "      <script>\n",
              "        const buttonEl =\n",
              "          document.querySelector('#df-19da8750-daf9-49db-8077-b580ebbf2c6c button.colab-df-convert');\n",
              "        buttonEl.style.display =\n",
              "          google.colab.kernel.accessAllowed ? 'block' : 'none';\n",
              "\n",
              "        async function convertToInteractive(key) {\n",
              "          const element = document.querySelector('#df-19da8750-daf9-49db-8077-b580ebbf2c6c');\n",
              "          const dataTable =\n",
              "            await google.colab.kernel.invokeFunction('convertToInteractive',\n",
              "                                                     [key], {});\n",
              "          if (!dataTable) return;\n",
              "\n",
              "          const docLinkHtml = 'Like what you see? Visit the ' +\n",
              "            '<a target=\"_blank\" href=https://colab.research.google.com/notebooks/data_table.ipynb>data table notebook</a>'\n",
              "            + ' to learn more about interactive tables.';\n",
              "          element.innerHTML = '';\n",
              "          dataTable['output_type'] = 'display_data';\n",
              "          await google.colab.output.renderOutput(dataTable, element);\n",
              "          const docLink = document.createElement('div');\n",
              "          docLink.innerHTML = docLinkHtml;\n",
              "          element.appendChild(docLink);\n",
              "        }\n",
              "      </script>\n",
              "    </div>\n",
              "  </div>\n",
              "  "
            ]
          },
          "metadata": {},
          "execution_count": 9
        }
      ]
    },
    {
      "cell_type": "code",
      "source": [
        "train = []\n",
        "for line in open('train.txt', 'r'):\n",
        "    train.append(line.replace('\\n','').split('\\t'))\n",
        "train = pd.DataFrame(train)\n",
        "train = train.rename(columns={0: \"namecode1\", 1: \"title\", 2: \"namecode2\"})\n",
        "train.head(5)"
      ],
      "metadata": {
        "id": "vUMn-iUnGejg",
        "colab": {
          "base_uri": "https://localhost:8080/",
          "height": 206
        },
        "outputId": "28ca62c5-bb01-4078-a125-f1d71e9a3acd"
      },
      "execution_count": 10,
      "outputs": [
        {
          "output_type": "execute_result",
          "data": {
            "text/plain": [
              "    namecode1                                              title  namecode2\n",
              "0    /m/027rn               /location/country/form_of_government   /m/06cx9\n",
              "1   /m/017dcd  /tv/tv_program/regular_cast./tv/regular_tv_app...  /m/06v8s0\n",
              "2  /m/07s9rl0                 /media_common/netflix_genre/titles  /m/0170z3\n",
              "3   /m/01sl1q  /award/award_winner/awards_won./award/award_ho...  /m/044mz_\n",
              "4   /m/0cnk2q  /soccer/football_team/current_roster./sports/s...  /m/02nzb8"
            ],
            "text/html": [
              "\n",
              "  <div id=\"df-9d79451e-1d74-4575-aa40-415f477d3544\">\n",
              "    <div class=\"colab-df-container\">\n",
              "      <div>\n",
              "<style scoped>\n",
              "    .dataframe tbody tr th:only-of-type {\n",
              "        vertical-align: middle;\n",
              "    }\n",
              "\n",
              "    .dataframe tbody tr th {\n",
              "        vertical-align: top;\n",
              "    }\n",
              "\n",
              "    .dataframe thead th {\n",
              "        text-align: right;\n",
              "    }\n",
              "</style>\n",
              "<table border=\"1\" class=\"dataframe\">\n",
              "  <thead>\n",
              "    <tr style=\"text-align: right;\">\n",
              "      <th></th>\n",
              "      <th>namecode1</th>\n",
              "      <th>title</th>\n",
              "      <th>namecode2</th>\n",
              "    </tr>\n",
              "  </thead>\n",
              "  <tbody>\n",
              "    <tr>\n",
              "      <th>0</th>\n",
              "      <td>/m/027rn</td>\n",
              "      <td>/location/country/form_of_government</td>\n",
              "      <td>/m/06cx9</td>\n",
              "    </tr>\n",
              "    <tr>\n",
              "      <th>1</th>\n",
              "      <td>/m/017dcd</td>\n",
              "      <td>/tv/tv_program/regular_cast./tv/regular_tv_app...</td>\n",
              "      <td>/m/06v8s0</td>\n",
              "    </tr>\n",
              "    <tr>\n",
              "      <th>2</th>\n",
              "      <td>/m/07s9rl0</td>\n",
              "      <td>/media_common/netflix_genre/titles</td>\n",
              "      <td>/m/0170z3</td>\n",
              "    </tr>\n",
              "    <tr>\n",
              "      <th>3</th>\n",
              "      <td>/m/01sl1q</td>\n",
              "      <td>/award/award_winner/awards_won./award/award_ho...</td>\n",
              "      <td>/m/044mz_</td>\n",
              "    </tr>\n",
              "    <tr>\n",
              "      <th>4</th>\n",
              "      <td>/m/0cnk2q</td>\n",
              "      <td>/soccer/football_team/current_roster./sports/s...</td>\n",
              "      <td>/m/02nzb8</td>\n",
              "    </tr>\n",
              "  </tbody>\n",
              "</table>\n",
              "</div>\n",
              "      <button class=\"colab-df-convert\" onclick=\"convertToInteractive('df-9d79451e-1d74-4575-aa40-415f477d3544')\"\n",
              "              title=\"Convert this dataframe to an interactive table.\"\n",
              "              style=\"display:none;\">\n",
              "        \n",
              "  <svg xmlns=\"http://www.w3.org/2000/svg\" height=\"24px\"viewBox=\"0 0 24 24\"\n",
              "       width=\"24px\">\n",
              "    <path d=\"M0 0h24v24H0V0z\" fill=\"none\"/>\n",
              "    <path d=\"M18.56 5.44l.94 2.06.94-2.06 2.06-.94-2.06-.94-.94-2.06-.94 2.06-2.06.94zm-11 1L8.5 8.5l.94-2.06 2.06-.94-2.06-.94L8.5 2.5l-.94 2.06-2.06.94zm10 10l.94 2.06.94-2.06 2.06-.94-2.06-.94-.94-2.06-.94 2.06-2.06.94z\"/><path d=\"M17.41 7.96l-1.37-1.37c-.4-.4-.92-.59-1.43-.59-.52 0-1.04.2-1.43.59L10.3 9.45l-7.72 7.72c-.78.78-.78 2.05 0 2.83L4 21.41c.39.39.9.59 1.41.59.51 0 1.02-.2 1.41-.59l7.78-7.78 2.81-2.81c.8-.78.8-2.07 0-2.86zM5.41 20L4 18.59l7.72-7.72 1.47 1.35L5.41 20z\"/>\n",
              "  </svg>\n",
              "      </button>\n",
              "      \n",
              "  <style>\n",
              "    .colab-df-container {\n",
              "      display:flex;\n",
              "      flex-wrap:wrap;\n",
              "      gap: 12px;\n",
              "    }\n",
              "\n",
              "    .colab-df-convert {\n",
              "      background-color: #E8F0FE;\n",
              "      border: none;\n",
              "      border-radius: 50%;\n",
              "      cursor: pointer;\n",
              "      display: none;\n",
              "      fill: #1967D2;\n",
              "      height: 32px;\n",
              "      padding: 0 0 0 0;\n",
              "      width: 32px;\n",
              "    }\n",
              "\n",
              "    .colab-df-convert:hover {\n",
              "      background-color: #E2EBFA;\n",
              "      box-shadow: 0px 1px 2px rgba(60, 64, 67, 0.3), 0px 1px 3px 1px rgba(60, 64, 67, 0.15);\n",
              "      fill: #174EA6;\n",
              "    }\n",
              "\n",
              "    [theme=dark] .colab-df-convert {\n",
              "      background-color: #3B4455;\n",
              "      fill: #D2E3FC;\n",
              "    }\n",
              "\n",
              "    [theme=dark] .colab-df-convert:hover {\n",
              "      background-color: #434B5C;\n",
              "      box-shadow: 0px 1px 3px 1px rgba(0, 0, 0, 0.15);\n",
              "      filter: drop-shadow(0px 1px 2px rgba(0, 0, 0, 0.3));\n",
              "      fill: #FFFFFF;\n",
              "    }\n",
              "  </style>\n",
              "\n",
              "      <script>\n",
              "        const buttonEl =\n",
              "          document.querySelector('#df-9d79451e-1d74-4575-aa40-415f477d3544 button.colab-df-convert');\n",
              "        buttonEl.style.display =\n",
              "          google.colab.kernel.accessAllowed ? 'block' : 'none';\n",
              "\n",
              "        async function convertToInteractive(key) {\n",
              "          const element = document.querySelector('#df-9d79451e-1d74-4575-aa40-415f477d3544');\n",
              "          const dataTable =\n",
              "            await google.colab.kernel.invokeFunction('convertToInteractive',\n",
              "                                                     [key], {});\n",
              "          if (!dataTable) return;\n",
              "\n",
              "          const docLinkHtml = 'Like what you see? Visit the ' +\n",
              "            '<a target=\"_blank\" href=https://colab.research.google.com/notebooks/data_table.ipynb>data table notebook</a>'\n",
              "            + ' to learn more about interactive tables.';\n",
              "          element.innerHTML = '';\n",
              "          dataTable['output_type'] = 'display_data';\n",
              "          await google.colab.output.renderOutput(dataTable, element);\n",
              "          const docLink = document.createElement('div');\n",
              "          docLink.innerHTML = docLinkHtml;\n",
              "          element.appendChild(docLink);\n",
              "        }\n",
              "      </script>\n",
              "    </div>\n",
              "  </div>\n",
              "  "
            ]
          },
          "metadata": {},
          "execution_count": 10
        }
      ]
    },
    {
      "cell_type": "code",
      "source": [
        "test = []\n",
        "for line in open('test.txt', 'r'):\n",
        "    test.append(line.replace('\\n','').split('\\t'))\n",
        "test = pd.DataFrame(test)\n",
        "test = test.rename(columns={0: \"namecode1\", 1: \"title\", 2: \"namecode2\"})\n",
        "test.head(5)"
      ],
      "metadata": {
        "colab": {
          "base_uri": "https://localhost:8080/",
          "height": 206
        },
        "id": "jqJrggODHlff",
        "outputId": "b661b4af-7edb-4cc0-a5ca-19ded1fa554f"
      },
      "execution_count": 11,
      "outputs": [
        {
          "output_type": "execute_result",
          "data": {
            "text/plain": [
              "    namecode1                                              title  namecode2\n",
              "0    /m/08966  /travel/travel_destination/climate./travel/tra...   /m/05lf_\n",
              "1   /m/01hww_  /music/performance_role/regular_performances./...  /m/01q99h\n",
              "2  /m/09v3jyg  /film/film/release_date_s./film/film_regional_...  /m/0f8l9c\n",
              "3    /m/02jx1                        /location/location/contains  /m/013t85\n",
              "4    /m/02jx1                        /location/location/contains   /m/0m0bj"
            ],
            "text/html": [
              "\n",
              "  <div id=\"df-05a78aa1-6810-4d33-869e-905942c4e199\">\n",
              "    <div class=\"colab-df-container\">\n",
              "      <div>\n",
              "<style scoped>\n",
              "    .dataframe tbody tr th:only-of-type {\n",
              "        vertical-align: middle;\n",
              "    }\n",
              "\n",
              "    .dataframe tbody tr th {\n",
              "        vertical-align: top;\n",
              "    }\n",
              "\n",
              "    .dataframe thead th {\n",
              "        text-align: right;\n",
              "    }\n",
              "</style>\n",
              "<table border=\"1\" class=\"dataframe\">\n",
              "  <thead>\n",
              "    <tr style=\"text-align: right;\">\n",
              "      <th></th>\n",
              "      <th>namecode1</th>\n",
              "      <th>title</th>\n",
              "      <th>namecode2</th>\n",
              "    </tr>\n",
              "  </thead>\n",
              "  <tbody>\n",
              "    <tr>\n",
              "      <th>0</th>\n",
              "      <td>/m/08966</td>\n",
              "      <td>/travel/travel_destination/climate./travel/tra...</td>\n",
              "      <td>/m/05lf_</td>\n",
              "    </tr>\n",
              "    <tr>\n",
              "      <th>1</th>\n",
              "      <td>/m/01hww_</td>\n",
              "      <td>/music/performance_role/regular_performances./...</td>\n",
              "      <td>/m/01q99h</td>\n",
              "    </tr>\n",
              "    <tr>\n",
              "      <th>2</th>\n",
              "      <td>/m/09v3jyg</td>\n",
              "      <td>/film/film/release_date_s./film/film_regional_...</td>\n",
              "      <td>/m/0f8l9c</td>\n",
              "    </tr>\n",
              "    <tr>\n",
              "      <th>3</th>\n",
              "      <td>/m/02jx1</td>\n",
              "      <td>/location/location/contains</td>\n",
              "      <td>/m/013t85</td>\n",
              "    </tr>\n",
              "    <tr>\n",
              "      <th>4</th>\n",
              "      <td>/m/02jx1</td>\n",
              "      <td>/location/location/contains</td>\n",
              "      <td>/m/0m0bj</td>\n",
              "    </tr>\n",
              "  </tbody>\n",
              "</table>\n",
              "</div>\n",
              "      <button class=\"colab-df-convert\" onclick=\"convertToInteractive('df-05a78aa1-6810-4d33-869e-905942c4e199')\"\n",
              "              title=\"Convert this dataframe to an interactive table.\"\n",
              "              style=\"display:none;\">\n",
              "        \n",
              "  <svg xmlns=\"http://www.w3.org/2000/svg\" height=\"24px\"viewBox=\"0 0 24 24\"\n",
              "       width=\"24px\">\n",
              "    <path d=\"M0 0h24v24H0V0z\" fill=\"none\"/>\n",
              "    <path d=\"M18.56 5.44l.94 2.06.94-2.06 2.06-.94-2.06-.94-.94-2.06-.94 2.06-2.06.94zm-11 1L8.5 8.5l.94-2.06 2.06-.94-2.06-.94L8.5 2.5l-.94 2.06-2.06.94zm10 10l.94 2.06.94-2.06 2.06-.94-2.06-.94-.94-2.06-.94 2.06-2.06.94z\"/><path d=\"M17.41 7.96l-1.37-1.37c-.4-.4-.92-.59-1.43-.59-.52 0-1.04.2-1.43.59L10.3 9.45l-7.72 7.72c-.78.78-.78 2.05 0 2.83L4 21.41c.39.39.9.59 1.41.59.51 0 1.02-.2 1.41-.59l7.78-7.78 2.81-2.81c.8-.78.8-2.07 0-2.86zM5.41 20L4 18.59l7.72-7.72 1.47 1.35L5.41 20z\"/>\n",
              "  </svg>\n",
              "      </button>\n",
              "      \n",
              "  <style>\n",
              "    .colab-df-container {\n",
              "      display:flex;\n",
              "      flex-wrap:wrap;\n",
              "      gap: 12px;\n",
              "    }\n",
              "\n",
              "    .colab-df-convert {\n",
              "      background-color: #E8F0FE;\n",
              "      border: none;\n",
              "      border-radius: 50%;\n",
              "      cursor: pointer;\n",
              "      display: none;\n",
              "      fill: #1967D2;\n",
              "      height: 32px;\n",
              "      padding: 0 0 0 0;\n",
              "      width: 32px;\n",
              "    }\n",
              "\n",
              "    .colab-df-convert:hover {\n",
              "      background-color: #E2EBFA;\n",
              "      box-shadow: 0px 1px 2px rgba(60, 64, 67, 0.3), 0px 1px 3px 1px rgba(60, 64, 67, 0.15);\n",
              "      fill: #174EA6;\n",
              "    }\n",
              "\n",
              "    [theme=dark] .colab-df-convert {\n",
              "      background-color: #3B4455;\n",
              "      fill: #D2E3FC;\n",
              "    }\n",
              "\n",
              "    [theme=dark] .colab-df-convert:hover {\n",
              "      background-color: #434B5C;\n",
              "      box-shadow: 0px 1px 3px 1px rgba(0, 0, 0, 0.15);\n",
              "      filter: drop-shadow(0px 1px 2px rgba(0, 0, 0, 0.3));\n",
              "      fill: #FFFFFF;\n",
              "    }\n",
              "  </style>\n",
              "\n",
              "      <script>\n",
              "        const buttonEl =\n",
              "          document.querySelector('#df-05a78aa1-6810-4d33-869e-905942c4e199 button.colab-df-convert');\n",
              "        buttonEl.style.display =\n",
              "          google.colab.kernel.accessAllowed ? 'block' : 'none';\n",
              "\n",
              "        async function convertToInteractive(key) {\n",
              "          const element = document.querySelector('#df-05a78aa1-6810-4d33-869e-905942c4e199');\n",
              "          const dataTable =\n",
              "            await google.colab.kernel.invokeFunction('convertToInteractive',\n",
              "                                                     [key], {});\n",
              "          if (!dataTable) return;\n",
              "\n",
              "          const docLinkHtml = 'Like what you see? Visit the ' +\n",
              "            '<a target=\"_blank\" href=https://colab.research.google.com/notebooks/data_table.ipynb>data table notebook</a>'\n",
              "            + ' to learn more about interactive tables.';\n",
              "          element.innerHTML = '';\n",
              "          dataTable['output_type'] = 'display_data';\n",
              "          await google.colab.output.renderOutput(dataTable, element);\n",
              "          const docLink = document.createElement('div');\n",
              "          docLink.innerHTML = docLinkHtml;\n",
              "          element.appendChild(docLink);\n",
              "        }\n",
              "      </script>\n",
              "    </div>\n",
              "  </div>\n",
              "  "
            ]
          },
          "metadata": {},
          "execution_count": 11
        }
      ]
    },
    {
      "cell_type": "code",
      "source": [
        "valid = []\n",
        "for line in open('valid.txt', 'r'):\n",
        "    valid.append(line.replace('\\n','').split('\\t'))\n",
        "valid = pd.DataFrame(valid)\n",
        "valid = valid.rename(columns={0: \"namecode1\", 1: \"title\", 2: \"namecode2\"})\n",
        "valid.head(5)"
      ],
      "metadata": {
        "colab": {
          "base_uri": "https://localhost:8080/",
          "height": 206
        },
        "id": "Q1NjHGYMH9J-",
        "outputId": "01b95fc9-0db8-4ac7-d3e7-b752ee1724a1"
      },
      "execution_count": 12,
      "outputs": [
        {
          "output_type": "execute_result",
          "data": {
            "text/plain": [
              "    namecode1                                              title  namecode2\n",
              "0   /m/07pd_j                                   /film/film/genre  /m/02l7c8\n",
              "1    /m/06wxw                      /location/location/time_zones  /m/02fqwt\n",
              "2  /m/01t94_1  /people/person/spouse_s./people/marriage/type_...   /m/04ztj\n",
              "3  /m/02xcb6n  /award/award_category/winners./award/award_hon...  /m/04x4s2\n",
              "4   /m/07f_7h  /film/film/release_date_s./film/film_regional_...   /m/04gzd"
            ],
            "text/html": [
              "\n",
              "  <div id=\"df-417c98cf-6dcf-4fd9-89c4-483590569a2c\">\n",
              "    <div class=\"colab-df-container\">\n",
              "      <div>\n",
              "<style scoped>\n",
              "    .dataframe tbody tr th:only-of-type {\n",
              "        vertical-align: middle;\n",
              "    }\n",
              "\n",
              "    .dataframe tbody tr th {\n",
              "        vertical-align: top;\n",
              "    }\n",
              "\n",
              "    .dataframe thead th {\n",
              "        text-align: right;\n",
              "    }\n",
              "</style>\n",
              "<table border=\"1\" class=\"dataframe\">\n",
              "  <thead>\n",
              "    <tr style=\"text-align: right;\">\n",
              "      <th></th>\n",
              "      <th>namecode1</th>\n",
              "      <th>title</th>\n",
              "      <th>namecode2</th>\n",
              "    </tr>\n",
              "  </thead>\n",
              "  <tbody>\n",
              "    <tr>\n",
              "      <th>0</th>\n",
              "      <td>/m/07pd_j</td>\n",
              "      <td>/film/film/genre</td>\n",
              "      <td>/m/02l7c8</td>\n",
              "    </tr>\n",
              "    <tr>\n",
              "      <th>1</th>\n",
              "      <td>/m/06wxw</td>\n",
              "      <td>/location/location/time_zones</td>\n",
              "      <td>/m/02fqwt</td>\n",
              "    </tr>\n",
              "    <tr>\n",
              "      <th>2</th>\n",
              "      <td>/m/01t94_1</td>\n",
              "      <td>/people/person/spouse_s./people/marriage/type_...</td>\n",
              "      <td>/m/04ztj</td>\n",
              "    </tr>\n",
              "    <tr>\n",
              "      <th>3</th>\n",
              "      <td>/m/02xcb6n</td>\n",
              "      <td>/award/award_category/winners./award/award_hon...</td>\n",
              "      <td>/m/04x4s2</td>\n",
              "    </tr>\n",
              "    <tr>\n",
              "      <th>4</th>\n",
              "      <td>/m/07f_7h</td>\n",
              "      <td>/film/film/release_date_s./film/film_regional_...</td>\n",
              "      <td>/m/04gzd</td>\n",
              "    </tr>\n",
              "  </tbody>\n",
              "</table>\n",
              "</div>\n",
              "      <button class=\"colab-df-convert\" onclick=\"convertToInteractive('df-417c98cf-6dcf-4fd9-89c4-483590569a2c')\"\n",
              "              title=\"Convert this dataframe to an interactive table.\"\n",
              "              style=\"display:none;\">\n",
              "        \n",
              "  <svg xmlns=\"http://www.w3.org/2000/svg\" height=\"24px\"viewBox=\"0 0 24 24\"\n",
              "       width=\"24px\">\n",
              "    <path d=\"M0 0h24v24H0V0z\" fill=\"none\"/>\n",
              "    <path d=\"M18.56 5.44l.94 2.06.94-2.06 2.06-.94-2.06-.94-.94-2.06-.94 2.06-2.06.94zm-11 1L8.5 8.5l.94-2.06 2.06-.94-2.06-.94L8.5 2.5l-.94 2.06-2.06.94zm10 10l.94 2.06.94-2.06 2.06-.94-2.06-.94-.94-2.06-.94 2.06-2.06.94z\"/><path d=\"M17.41 7.96l-1.37-1.37c-.4-.4-.92-.59-1.43-.59-.52 0-1.04.2-1.43.59L10.3 9.45l-7.72 7.72c-.78.78-.78 2.05 0 2.83L4 21.41c.39.39.9.59 1.41.59.51 0 1.02-.2 1.41-.59l7.78-7.78 2.81-2.81c.8-.78.8-2.07 0-2.86zM5.41 20L4 18.59l7.72-7.72 1.47 1.35L5.41 20z\"/>\n",
              "  </svg>\n",
              "      </button>\n",
              "      \n",
              "  <style>\n",
              "    .colab-df-container {\n",
              "      display:flex;\n",
              "      flex-wrap:wrap;\n",
              "      gap: 12px;\n",
              "    }\n",
              "\n",
              "    .colab-df-convert {\n",
              "      background-color: #E8F0FE;\n",
              "      border: none;\n",
              "      border-radius: 50%;\n",
              "      cursor: pointer;\n",
              "      display: none;\n",
              "      fill: #1967D2;\n",
              "      height: 32px;\n",
              "      padding: 0 0 0 0;\n",
              "      width: 32px;\n",
              "    }\n",
              "\n",
              "    .colab-df-convert:hover {\n",
              "      background-color: #E2EBFA;\n",
              "      box-shadow: 0px 1px 2px rgba(60, 64, 67, 0.3), 0px 1px 3px 1px rgba(60, 64, 67, 0.15);\n",
              "      fill: #174EA6;\n",
              "    }\n",
              "\n",
              "    [theme=dark] .colab-df-convert {\n",
              "      background-color: #3B4455;\n",
              "      fill: #D2E3FC;\n",
              "    }\n",
              "\n",
              "    [theme=dark] .colab-df-convert:hover {\n",
              "      background-color: #434B5C;\n",
              "      box-shadow: 0px 1px 3px 1px rgba(0, 0, 0, 0.15);\n",
              "      filter: drop-shadow(0px 1px 2px rgba(0, 0, 0, 0.3));\n",
              "      fill: #FFFFFF;\n",
              "    }\n",
              "  </style>\n",
              "\n",
              "      <script>\n",
              "        const buttonEl =\n",
              "          document.querySelector('#df-417c98cf-6dcf-4fd9-89c4-483590569a2c button.colab-df-convert');\n",
              "        buttonEl.style.display =\n",
              "          google.colab.kernel.accessAllowed ? 'block' : 'none';\n",
              "\n",
              "        async function convertToInteractive(key) {\n",
              "          const element = document.querySelector('#df-417c98cf-6dcf-4fd9-89c4-483590569a2c');\n",
              "          const dataTable =\n",
              "            await google.colab.kernel.invokeFunction('convertToInteractive',\n",
              "                                                     [key], {});\n",
              "          if (!dataTable) return;\n",
              "\n",
              "          const docLinkHtml = 'Like what you see? Visit the ' +\n",
              "            '<a target=\"_blank\" href=https://colab.research.google.com/notebooks/data_table.ipynb>data table notebook</a>'\n",
              "            + ' to learn more about interactive tables.';\n",
              "          element.innerHTML = '';\n",
              "          dataTable['output_type'] = 'display_data';\n",
              "          await google.colab.output.renderOutput(dataTable, element);\n",
              "          const docLink = document.createElement('div');\n",
              "          docLink.innerHTML = docLinkHtml;\n",
              "          element.appendChild(docLink);\n",
              "        }\n",
              "      </script>\n",
              "    </div>\n",
              "  </div>\n",
              "  "
            ]
          },
          "metadata": {},
          "execution_count": 12
        }
      ]
    },
    {
      "cell_type": "code",
      "source": [
        "def reset_index(df):\n",
        "    df = df.reset_index()\n",
        "    del df['index']\n",
        "    return df\n",
        "\n",
        "test = reset_index(test)\n",
        "train = reset_index(train)\n",
        "valid = reset_index(valid)"
      ],
      "metadata": {
        "id": "7E-ffM0Dwwrq"
      },
      "execution_count": 13,
      "outputs": []
    },
    {
      "cell_type": "markdown",
      "source": [
        "#preprocessing"
      ],
      "metadata": {
        "id": "NUNNhzLqKkXj"
      }
    },
    {
      "cell_type": "code",
      "source": [
        "nodes = list(set(des.namecode))"
      ],
      "metadata": {
        "id": "q7nzIm_9Je5S"
      },
      "execution_count": 14,
      "outputs": []
    },
    {
      "cell_type": "code",
      "source": [
        "len(nodes)"
      ],
      "metadata": {
        "colab": {
          "base_uri": "https://localhost:8080/"
        },
        "id": "_C8kXlX7J3Co",
        "outputId": "b7f5873d-2d09-4cfc-8628-a731ae3f768c"
      },
      "execution_count": 15,
      "outputs": [
        {
          "output_type": "execute_result",
          "data": {
            "text/plain": [
              "14904"
            ]
          },
          "metadata": {},
          "execution_count": 15
        }
      ]
    },
    {
      "cell_type": "code",
      "source": [
        "des.head(5)"
      ],
      "metadata": {
        "colab": {
          "base_uri": "https://localhost:8080/",
          "height": 337
        },
        "id": "787w5KAtJ4nH",
        "outputId": "8b847429-9ff5-476a-81f8-b5db87f8a6b0"
      },
      "execution_count": 16,
      "outputs": [
        {
          "output_type": "execute_result",
          "data": {
            "text/plain": [
              "     namecode                                        description  \\\n",
              "0    /m/06rf7  schleswigholstein northernmost sixteen states ...   \n",
              "1   /m/0c94fn  gary roger rydstrom american sound designer di...   \n",
              "2   /m/016ywr  jeremy john irons english actor receiving clas...   \n",
              "3    /m/01yjl  chicago cubs professional baseball team locate...   \n",
              "4  /m/02hrh1q  actor person portraying character dramatic com...   \n",
              "\n",
              "                title                                               text  \\\n",
              "0  Schleswig-Holstein  schleswigholstein schleswigholstein northernmo...   \n",
              "1       Gary_Rydstrom  gary_rydstrom gary roger rydstrom american sou...   \n",
              "2        Jeremy_Irons  jeremy_irons jeremy john irons english actor r...   \n",
              "3        Chicago_Cubs  chicago_cubs chicago cubs professional basebal...   \n",
              "4            Actor-GB  actorgb actor person portraying character dram...   \n",
              "\n",
              "                                            embedded  \n",
              "0  [-0.5489803, 0.16440539, 0.66058505, -0.037717...  \n",
              "1  [-0.36805353, 1.2219998, 0.22228242, 0.5203364...  \n",
              "2  [-0.8121141, 0.7617216, 0.43965185, -0.0815964...  \n",
              "3  [-0.5676567, 0.1930804, -0.13923785, 0.4089947...  \n",
              "4  [0.30152893, 0.9061507, 0.70486355, 0.19482128...  "
            ],
            "text/html": [
              "\n",
              "  <div id=\"df-394b3e98-4545-4cef-a3b2-5bfb5c17a1b7\">\n",
              "    <div class=\"colab-df-container\">\n",
              "      <div>\n",
              "<style scoped>\n",
              "    .dataframe tbody tr th:only-of-type {\n",
              "        vertical-align: middle;\n",
              "    }\n",
              "\n",
              "    .dataframe tbody tr th {\n",
              "        vertical-align: top;\n",
              "    }\n",
              "\n",
              "    .dataframe thead th {\n",
              "        text-align: right;\n",
              "    }\n",
              "</style>\n",
              "<table border=\"1\" class=\"dataframe\">\n",
              "  <thead>\n",
              "    <tr style=\"text-align: right;\">\n",
              "      <th></th>\n",
              "      <th>namecode</th>\n",
              "      <th>description</th>\n",
              "      <th>title</th>\n",
              "      <th>text</th>\n",
              "      <th>embedded</th>\n",
              "    </tr>\n",
              "  </thead>\n",
              "  <tbody>\n",
              "    <tr>\n",
              "      <th>0</th>\n",
              "      <td>/m/06rf7</td>\n",
              "      <td>schleswigholstein northernmost sixteen states ...</td>\n",
              "      <td>Schleswig-Holstein</td>\n",
              "      <td>schleswigholstein schleswigholstein northernmo...</td>\n",
              "      <td>[-0.5489803, 0.16440539, 0.66058505, -0.037717...</td>\n",
              "    </tr>\n",
              "    <tr>\n",
              "      <th>1</th>\n",
              "      <td>/m/0c94fn</td>\n",
              "      <td>gary roger rydstrom american sound designer di...</td>\n",
              "      <td>Gary_Rydstrom</td>\n",
              "      <td>gary_rydstrom gary roger rydstrom american sou...</td>\n",
              "      <td>[-0.36805353, 1.2219998, 0.22228242, 0.5203364...</td>\n",
              "    </tr>\n",
              "    <tr>\n",
              "      <th>2</th>\n",
              "      <td>/m/016ywr</td>\n",
              "      <td>jeremy john irons english actor receiving clas...</td>\n",
              "      <td>Jeremy_Irons</td>\n",
              "      <td>jeremy_irons jeremy john irons english actor r...</td>\n",
              "      <td>[-0.8121141, 0.7617216, 0.43965185, -0.0815964...</td>\n",
              "    </tr>\n",
              "    <tr>\n",
              "      <th>3</th>\n",
              "      <td>/m/01yjl</td>\n",
              "      <td>chicago cubs professional baseball team locate...</td>\n",
              "      <td>Chicago_Cubs</td>\n",
              "      <td>chicago_cubs chicago cubs professional basebal...</td>\n",
              "      <td>[-0.5676567, 0.1930804, -0.13923785, 0.4089947...</td>\n",
              "    </tr>\n",
              "    <tr>\n",
              "      <th>4</th>\n",
              "      <td>/m/02hrh1q</td>\n",
              "      <td>actor person portraying character dramatic com...</td>\n",
              "      <td>Actor-GB</td>\n",
              "      <td>actorgb actor person portraying character dram...</td>\n",
              "      <td>[0.30152893, 0.9061507, 0.70486355, 0.19482128...</td>\n",
              "    </tr>\n",
              "  </tbody>\n",
              "</table>\n",
              "</div>\n",
              "      <button class=\"colab-df-convert\" onclick=\"convertToInteractive('df-394b3e98-4545-4cef-a3b2-5bfb5c17a1b7')\"\n",
              "              title=\"Convert this dataframe to an interactive table.\"\n",
              "              style=\"display:none;\">\n",
              "        \n",
              "  <svg xmlns=\"http://www.w3.org/2000/svg\" height=\"24px\"viewBox=\"0 0 24 24\"\n",
              "       width=\"24px\">\n",
              "    <path d=\"M0 0h24v24H0V0z\" fill=\"none\"/>\n",
              "    <path d=\"M18.56 5.44l.94 2.06.94-2.06 2.06-.94-2.06-.94-.94-2.06-.94 2.06-2.06.94zm-11 1L8.5 8.5l.94-2.06 2.06-.94-2.06-.94L8.5 2.5l-.94 2.06-2.06.94zm10 10l.94 2.06.94-2.06 2.06-.94-2.06-.94-.94-2.06-.94 2.06-2.06.94z\"/><path d=\"M17.41 7.96l-1.37-1.37c-.4-.4-.92-.59-1.43-.59-.52 0-1.04.2-1.43.59L10.3 9.45l-7.72 7.72c-.78.78-.78 2.05 0 2.83L4 21.41c.39.39.9.59 1.41.59.51 0 1.02-.2 1.41-.59l7.78-7.78 2.81-2.81c.8-.78.8-2.07 0-2.86zM5.41 20L4 18.59l7.72-7.72 1.47 1.35L5.41 20z\"/>\n",
              "  </svg>\n",
              "      </button>\n",
              "      \n",
              "  <style>\n",
              "    .colab-df-container {\n",
              "      display:flex;\n",
              "      flex-wrap:wrap;\n",
              "      gap: 12px;\n",
              "    }\n",
              "\n",
              "    .colab-df-convert {\n",
              "      background-color: #E8F0FE;\n",
              "      border: none;\n",
              "      border-radius: 50%;\n",
              "      cursor: pointer;\n",
              "      display: none;\n",
              "      fill: #1967D2;\n",
              "      height: 32px;\n",
              "      padding: 0 0 0 0;\n",
              "      width: 32px;\n",
              "    }\n",
              "\n",
              "    .colab-df-convert:hover {\n",
              "      background-color: #E2EBFA;\n",
              "      box-shadow: 0px 1px 2px rgba(60, 64, 67, 0.3), 0px 1px 3px 1px rgba(60, 64, 67, 0.15);\n",
              "      fill: #174EA6;\n",
              "    }\n",
              "\n",
              "    [theme=dark] .colab-df-convert {\n",
              "      background-color: #3B4455;\n",
              "      fill: #D2E3FC;\n",
              "    }\n",
              "\n",
              "    [theme=dark] .colab-df-convert:hover {\n",
              "      background-color: #434B5C;\n",
              "      box-shadow: 0px 1px 3px 1px rgba(0, 0, 0, 0.15);\n",
              "      filter: drop-shadow(0px 1px 2px rgba(0, 0, 0, 0.3));\n",
              "      fill: #FFFFFF;\n",
              "    }\n",
              "  </style>\n",
              "\n",
              "      <script>\n",
              "        const buttonEl =\n",
              "          document.querySelector('#df-394b3e98-4545-4cef-a3b2-5bfb5c17a1b7 button.colab-df-convert');\n",
              "        buttonEl.style.display =\n",
              "          google.colab.kernel.accessAllowed ? 'block' : 'none';\n",
              "\n",
              "        async function convertToInteractive(key) {\n",
              "          const element = document.querySelector('#df-394b3e98-4545-4cef-a3b2-5bfb5c17a1b7');\n",
              "          const dataTable =\n",
              "            await google.colab.kernel.invokeFunction('convertToInteractive',\n",
              "                                                     [key], {});\n",
              "          if (!dataTable) return;\n",
              "\n",
              "          const docLinkHtml = 'Like what you see? Visit the ' +\n",
              "            '<a target=\"_blank\" href=https://colab.research.google.com/notebooks/data_table.ipynb>data table notebook</a>'\n",
              "            + ' to learn more about interactive tables.';\n",
              "          element.innerHTML = '';\n",
              "          dataTable['output_type'] = 'display_data';\n",
              "          await google.colab.output.renderOutput(dataTable, element);\n",
              "          const docLink = document.createElement('div');\n",
              "          docLink.innerHTML = docLinkHtml;\n",
              "          element.appendChild(docLink);\n",
              "        }\n",
              "      </script>\n",
              "    </div>\n",
              "  </div>\n",
              "  "
            ]
          },
          "metadata": {},
          "execution_count": 16
        }
      ]
    },
    {
      "cell_type": "code",
      "source": [
        "tempa = des.namecode\n",
        "tempb = des.embedded\n",
        "d = {}\n",
        "for i in range(len(tempa)):\n",
        "    d[tempa[i]]=[np.array(tempb[i])]    "
      ],
      "metadata": {
        "id": "rOYf_Cp0XBj4"
      },
      "execution_count": 17,
      "outputs": []
    },
    {
      "cell_type": "markdown",
      "source": [
        "##train:"
      ],
      "metadata": {
        "id": "ODsljYo2L9zm"
      }
    },
    {
      "cell_type": "code",
      "source": [
        "list(d.keys())[0],np.array(d[list(d.keys())[0]]).shape"
      ],
      "metadata": {
        "colab": {
          "base_uri": "https://localhost:8080/"
        },
        "id": "Eg8ipazpHlgF",
        "outputId": "1cd9efdc-665b-4ddd-dabe-766f867e2f4f"
      },
      "execution_count": 18,
      "outputs": [
        {
          "output_type": "execute_result",
          "data": {
            "text/plain": [
              "('/m/06rf7', (1, 768))"
            ]
          },
          "metadata": {},
          "execution_count": 18
        }
      ]
    },
    {
      "cell_type": "markdown",
      "source": [
        "## function"
      ],
      "metadata": {
        "id": "-gBl2EOfL_zG"
      }
    },
    {
      "cell_type": "code",
      "source": [
        "from sklearn.metrics.pairwise import cosine_similarity"
      ],
      "metadata": {
        "id": "z40BnzqbOMP8"
      },
      "execution_count": 19,
      "outputs": []
    },
    {
      "cell_type": "code",
      "source": [
        "def similarity(x,y):\n",
        "    return cosine_similarity([x],[y])"
      ],
      "metadata": {
        "id": "dJoUm7KxNp5M"
      },
      "execution_count": 20,
      "outputs": []
    },
    {
      "cell_type": "code",
      "source": [
        "import warnings\n",
        "warnings.filterwarnings(\"ignore\")"
      ],
      "metadata": {
        "id": "qoeoA7Y4jalT"
      },
      "execution_count": 21,
      "outputs": []
    },
    {
      "cell_type": "markdown",
      "source": [
        "# create dataset for nn"
      ],
      "metadata": {
        "id": "tz46AgT2IdnN"
      }
    },
    {
      "cell_type": "code",
      "source": [
        "# xtrain = []\n",
        "# ytrain = []\n",
        "\n",
        "# xtest = []\n",
        "# ytest = []\n",
        "\n",
        "# for i in tqdm(range(int(len(train)/2))):\n",
        "#     row = train.loc[i]\n",
        "#     try:\n",
        "#         x1 = des[des.namecode==row[0]].namecode\n",
        "#         x2 = des[des.namecode==row[2]].namecode\n",
        "#         xtrain.append([row[0],row[2]])\n",
        "#         ytrain.append(1)\n",
        "#         while(True):\n",
        "#             z = random.randint(0,len(des)-1)\n",
        "#             if not ((train['namecode1'] == x1.values[0]) & (train['namecode2'] == des.loc[z][0])).any():\n",
        "#                 z = des[des.namecode==des.loc[z][0]].description\n",
        "#                 break\n",
        "#         xtrain.append([row[0],z])\n",
        "#         ytrain.append(0)\n",
        "#     except:\n",
        "#         pass"
      ],
      "metadata": {
        "id": "vP1HNA6-sxWH"
      },
      "execution_count": 22,
      "outputs": []
    },
    {
      "cell_type": "code",
      "source": [
        "# with open('x part1 p&n samples.pkl', 'wb') as handle:\n",
        "#     pickle.dump(xtrain, handle, protocol=pickle.HIGHEST_PROTOCOL)\n",
        "\n",
        "# with open('y part1 p&n samples.pkl', 'wb') as handle:\n",
        "#     pickle.dump(ytrain, handle, protocol=pickle.HIGHEST_PROTOCOL)\n",
        "\n",
        "# # with open('filename.pkl', 'rb') as handle:\n",
        "# #     b = pickle.load(handle)"
      ],
      "metadata": {
        "id": "2kaT06I5lB7V"
      },
      "execution_count": 23,
      "outputs": []
    },
    {
      "cell_type": "markdown",
      "source": [
        "# next part"
      ],
      "metadata": {
        "id": "XHLvPW0Zl-co"
      }
    },
    {
      "cell_type": "code",
      "source": [
        "with open('x part1 p&n samples.pkl', 'rb') as handle:\n",
        "    x1 = pickle.load(handle)\n",
        "\n",
        "with open('x part2 p&n samples.pkl', 'rb') as handle:\n",
        "    x2 = pickle.load(handle)\n",
        "\n",
        "with open('y part1 p&n samples.pkl', 'rb') as handle:\n",
        "    y1 = pickle.load(handle)\n",
        "\n",
        "with open('y part2 p&n samples.pkl', 'rb') as handle:\n",
        "    y2 = pickle.load(handle)"
      ],
      "metadata": {
        "id": "MtCAH7Qu8DHL"
      },
      "execution_count": 94,
      "outputs": []
    },
    {
      "cell_type": "code",
      "source": [
        "xtrain = x1[:] + x2[:]\n",
        "ytrain = y1[:] + y2[:]"
      ],
      "metadata": {
        "id": "QSwTUgXJmV9f"
      },
      "execution_count": 95,
      "outputs": []
    },
    {
      "cell_type": "code",
      "source": [
        "# xtest = []\n",
        "# ytest = []\n",
        "\n",
        "# xtest = []\n",
        "# ytest = []\n",
        "\n",
        "# for i in tqdm(range(int(len(test)/2))):\n",
        "#     row = test.loc[i]\n",
        "#     try:\n",
        "#         x1 = des[des.namecode==row[0]].namecode\n",
        "#         x2 = des[des.namecode==row[2]].namecode\n",
        "#         xtest.append([row[0],row[2]])\n",
        "#         ytest.append(1)\n",
        "#         while(True):\n",
        "#             z = random.randint(0,len(des)-1)\n",
        "#             if not ((test['namecode1'] == x1.values[0]) & (test['namecode2'] == des.loc[z][0])).any():\n",
        "#                 z = des[des.namecode==des.loc[z][0]].description\n",
        "#                 break\n",
        "#         xtest.append([row[0],z])\n",
        "#         ytest.append(0)\n",
        "#     except:\n",
        "#         pass"
      ],
      "metadata": {
        "id": "lN2peLWymjl4"
      },
      "execution_count": 26,
      "outputs": []
    },
    {
      "cell_type": "code",
      "source": [
        "# with open('x test part1 p&n samples.pkl', 'wb') as handle:\n",
        "#     pickle.dump(xtest, handle, protocol=pickle.HIGHEST_PROTOCOL)\n",
        "\n",
        "# with open('y test part1 p&n samples.pkl', 'wb') as handle:\n",
        "#     pickle.dump(ytest, handle, protocol=pickle.HIGHEST_PROTOCOL)\n",
        "\n",
        "with open('x test part1 p&n samples.pkl', 'rb') as handle:\n",
        "    xtest = pickle.load(handle)\n",
        "\n",
        "with open('y test part1 p&n samples.pkl', 'rb') as handle:\n",
        "    ytest = pickle.load(handle)"
      ],
      "metadata": {
        "id": "Xsk2mve5mm0P"
      },
      "execution_count": 27,
      "outputs": []
    },
    {
      "cell_type": "markdown",
      "source": [
        "# add descriptions"
      ],
      "metadata": {
        "id": "NnDnvI9tn8uu"
      }
    },
    {
      "cell_type": "code",
      "source": [
        "des[:3]"
      ],
      "metadata": {
        "colab": {
          "base_uri": "https://localhost:8080/",
          "height": 240
        },
        "id": "YVEEjEH-oF62",
        "outputId": "9fe0d459-cfe9-4fe0-912e-9bcf8d77ac1f"
      },
      "execution_count": 28,
      "outputs": [
        {
          "output_type": "execute_result",
          "data": {
            "text/plain": [
              "    namecode                                        description  \\\n",
              "0   /m/06rf7  schleswigholstein northernmost sixteen states ...   \n",
              "1  /m/0c94fn  gary roger rydstrom american sound designer di...   \n",
              "2  /m/016ywr  jeremy john irons english actor receiving clas...   \n",
              "\n",
              "                title                                               text  \\\n",
              "0  Schleswig-Holstein  schleswigholstein schleswigholstein northernmo...   \n",
              "1       Gary_Rydstrom  gary_rydstrom gary roger rydstrom american sou...   \n",
              "2        Jeremy_Irons  jeremy_irons jeremy john irons english actor r...   \n",
              "\n",
              "                                            embedded  \n",
              "0  [-0.5489803, 0.16440539, 0.66058505, -0.037717...  \n",
              "1  [-0.36805353, 1.2219998, 0.22228242, 0.5203364...  \n",
              "2  [-0.8121141, 0.7617216, 0.43965185, -0.0815964...  "
            ],
            "text/html": [
              "\n",
              "  <div id=\"df-75fc61c0-49d4-477e-858a-f7138be89f8d\">\n",
              "    <div class=\"colab-df-container\">\n",
              "      <div>\n",
              "<style scoped>\n",
              "    .dataframe tbody tr th:only-of-type {\n",
              "        vertical-align: middle;\n",
              "    }\n",
              "\n",
              "    .dataframe tbody tr th {\n",
              "        vertical-align: top;\n",
              "    }\n",
              "\n",
              "    .dataframe thead th {\n",
              "        text-align: right;\n",
              "    }\n",
              "</style>\n",
              "<table border=\"1\" class=\"dataframe\">\n",
              "  <thead>\n",
              "    <tr style=\"text-align: right;\">\n",
              "      <th></th>\n",
              "      <th>namecode</th>\n",
              "      <th>description</th>\n",
              "      <th>title</th>\n",
              "      <th>text</th>\n",
              "      <th>embedded</th>\n",
              "    </tr>\n",
              "  </thead>\n",
              "  <tbody>\n",
              "    <tr>\n",
              "      <th>0</th>\n",
              "      <td>/m/06rf7</td>\n",
              "      <td>schleswigholstein northernmost sixteen states ...</td>\n",
              "      <td>Schleswig-Holstein</td>\n",
              "      <td>schleswigholstein schleswigholstein northernmo...</td>\n",
              "      <td>[-0.5489803, 0.16440539, 0.66058505, -0.037717...</td>\n",
              "    </tr>\n",
              "    <tr>\n",
              "      <th>1</th>\n",
              "      <td>/m/0c94fn</td>\n",
              "      <td>gary roger rydstrom american sound designer di...</td>\n",
              "      <td>Gary_Rydstrom</td>\n",
              "      <td>gary_rydstrom gary roger rydstrom american sou...</td>\n",
              "      <td>[-0.36805353, 1.2219998, 0.22228242, 0.5203364...</td>\n",
              "    </tr>\n",
              "    <tr>\n",
              "      <th>2</th>\n",
              "      <td>/m/016ywr</td>\n",
              "      <td>jeremy john irons english actor receiving clas...</td>\n",
              "      <td>Jeremy_Irons</td>\n",
              "      <td>jeremy_irons jeremy john irons english actor r...</td>\n",
              "      <td>[-0.8121141, 0.7617216, 0.43965185, -0.0815964...</td>\n",
              "    </tr>\n",
              "  </tbody>\n",
              "</table>\n",
              "</div>\n",
              "      <button class=\"colab-df-convert\" onclick=\"convertToInteractive('df-75fc61c0-49d4-477e-858a-f7138be89f8d')\"\n",
              "              title=\"Convert this dataframe to an interactive table.\"\n",
              "              style=\"display:none;\">\n",
              "        \n",
              "  <svg xmlns=\"http://www.w3.org/2000/svg\" height=\"24px\"viewBox=\"0 0 24 24\"\n",
              "       width=\"24px\">\n",
              "    <path d=\"M0 0h24v24H0V0z\" fill=\"none\"/>\n",
              "    <path d=\"M18.56 5.44l.94 2.06.94-2.06 2.06-.94-2.06-.94-.94-2.06-.94 2.06-2.06.94zm-11 1L8.5 8.5l.94-2.06 2.06-.94-2.06-.94L8.5 2.5l-.94 2.06-2.06.94zm10 10l.94 2.06.94-2.06 2.06-.94-2.06-.94-.94-2.06-.94 2.06-2.06.94z\"/><path d=\"M17.41 7.96l-1.37-1.37c-.4-.4-.92-.59-1.43-.59-.52 0-1.04.2-1.43.59L10.3 9.45l-7.72 7.72c-.78.78-.78 2.05 0 2.83L4 21.41c.39.39.9.59 1.41.59.51 0 1.02-.2 1.41-.59l7.78-7.78 2.81-2.81c.8-.78.8-2.07 0-2.86zM5.41 20L4 18.59l7.72-7.72 1.47 1.35L5.41 20z\"/>\n",
              "  </svg>\n",
              "      </button>\n",
              "      \n",
              "  <style>\n",
              "    .colab-df-container {\n",
              "      display:flex;\n",
              "      flex-wrap:wrap;\n",
              "      gap: 12px;\n",
              "    }\n",
              "\n",
              "    .colab-df-convert {\n",
              "      background-color: #E8F0FE;\n",
              "      border: none;\n",
              "      border-radius: 50%;\n",
              "      cursor: pointer;\n",
              "      display: none;\n",
              "      fill: #1967D2;\n",
              "      height: 32px;\n",
              "      padding: 0 0 0 0;\n",
              "      width: 32px;\n",
              "    }\n",
              "\n",
              "    .colab-df-convert:hover {\n",
              "      background-color: #E2EBFA;\n",
              "      box-shadow: 0px 1px 2px rgba(60, 64, 67, 0.3), 0px 1px 3px 1px rgba(60, 64, 67, 0.15);\n",
              "      fill: #174EA6;\n",
              "    }\n",
              "\n",
              "    [theme=dark] .colab-df-convert {\n",
              "      background-color: #3B4455;\n",
              "      fill: #D2E3FC;\n",
              "    }\n",
              "\n",
              "    [theme=dark] .colab-df-convert:hover {\n",
              "      background-color: #434B5C;\n",
              "      box-shadow: 0px 1px 3px 1px rgba(0, 0, 0, 0.15);\n",
              "      filter: drop-shadow(0px 1px 2px rgba(0, 0, 0, 0.3));\n",
              "      fill: #FFFFFF;\n",
              "    }\n",
              "  </style>\n",
              "\n",
              "      <script>\n",
              "        const buttonEl =\n",
              "          document.querySelector('#df-75fc61c0-49d4-477e-858a-f7138be89f8d button.colab-df-convert');\n",
              "        buttonEl.style.display =\n",
              "          google.colab.kernel.accessAllowed ? 'block' : 'none';\n",
              "\n",
              "        async function convertToInteractive(key) {\n",
              "          const element = document.querySelector('#df-75fc61c0-49d4-477e-858a-f7138be89f8d');\n",
              "          const dataTable =\n",
              "            await google.colab.kernel.invokeFunction('convertToInteractive',\n",
              "                                                     [key], {});\n",
              "          if (!dataTable) return;\n",
              "\n",
              "          const docLinkHtml = 'Like what you see? Visit the ' +\n",
              "            '<a target=\"_blank\" href=https://colab.research.google.com/notebooks/data_table.ipynb>data table notebook</a>'\n",
              "            + ' to learn more about interactive tables.';\n",
              "          element.innerHTML = '';\n",
              "          dataTable['output_type'] = 'display_data';\n",
              "          await google.colab.output.renderOutput(dataTable, element);\n",
              "          const docLink = document.createElement('div');\n",
              "          docLink.innerHTML = docLinkHtml;\n",
              "          element.appendChild(docLink);\n",
              "        }\n",
              "      </script>\n",
              "    </div>\n",
              "  </div>\n",
              "  "
            ]
          },
          "metadata": {},
          "execution_count": 28
        }
      ]
    },
    {
      "cell_type": "code",
      "source": [
        "i=9799\n",
        "h = xtrain[i][0]\n",
        "t = xtrain[i][1]\n",
        "print(h,t)\n",
        "# des[des.description==t.values[0]].embedded.values[0]"
      ],
      "metadata": {
        "colab": {
          "base_uri": "https://localhost:8080/"
        },
        "id": "f-QdkfUzo21e",
        "outputId": "20cff7be-7a78-4e10-f3c5-a04634fee918"
      },
      "execution_count": 47,
      "outputs": [
        {
          "output_type": "stream",
          "name": "stdout",
          "text": [
            "/m/04jpl 14155    deathcore genre extreme metal combines sounds ...\n",
            "Name: description, dtype: object\n"
          ]
        }
      ]
    },
    {
      "cell_type": "code",
      "source": [
        "xtrain = x1[:] + x2[:]\n",
        "ytrain = y1[:] + y2[:]"
      ],
      "metadata": {
        "id": "Tr-Nk1zGwUza"
      },
      "execution_count": 92,
      "outputs": []
    },
    {
      "cell_type": "code",
      "source": [
        "badlist = []\n",
        "for i in tqdm(range(len(xtest))):\n",
        "    h = xtest[i][0]\n",
        "    t = xtest[i][1]\n",
        "    try:\n",
        "        if len(h)!=768:\n",
        "            h = des[des.namecode==h].embedded.values[0]\n",
        "        if len(t)!=768:\n",
        "            if type(t)!=str:\n",
        "                t = t.values[0]\n",
        "            if '/m' == t[:2]:\n",
        "                t = des[des.namecode==t].embedded.values[0]\n",
        "            else:\n",
        "                t = des[des.description==t].embedded.values[0]\n",
        "\n",
        "        xtest[i][0] = h\n",
        "        xtest[i][1] = t\n",
        "    except Exception as e:\n",
        "        print(i,'----------> ',e)\n",
        "        badlist.append(i)"
      ],
      "metadata": {
        "colab": {
          "base_uri": "https://localhost:8080/"
        },
        "id": "Kg_QIhHqnHZ2",
        "outputId": "badcce3c-8c63-4755-ad0d-dd6efc1679b7"
      },
      "execution_count": 115,
      "outputs": [
        {
          "output_type": "stream",
          "name": "stderr",
          "text": [
            "  8%|▊         | 1617/20455 [00:06<02:08, 147.00it/s]"
          ]
        },
        {
          "output_type": "stream",
          "name": "stdout",
          "text": [
            "1592 ---------->  index 0 is out of bounds for axis 0 with size 0\n"
          ]
        },
        {
          "output_type": "stream",
          "name": "stderr",
          "text": [
            "  9%|▉         | 1797/20455 [00:07<01:40, 185.83it/s]"
          ]
        },
        {
          "output_type": "stream",
          "name": "stdout",
          "text": [
            "1753 ---------->  index 0 is out of bounds for axis 0 with size 0\n"
          ]
        },
        {
          "output_type": "stream",
          "name": "stderr",
          "text": [
            " 12%|█▏        | 2460/20455 [00:11<01:50, 162.77it/s]"
          ]
        },
        {
          "output_type": "stream",
          "name": "stdout",
          "text": [
            "2418 ---------->  index 0 is out of bounds for axis 0 with size 0\n"
          ]
        },
        {
          "output_type": "stream",
          "name": "stderr",
          "text": [
            " 16%|█▌        | 3223/20455 [00:14<01:07, 257.10it/s]"
          ]
        },
        {
          "output_type": "stream",
          "name": "stdout",
          "text": [
            "3186 ---------->  index 0 is out of bounds for axis 0 with size 0\n"
          ]
        },
        {
          "output_type": "stream",
          "name": "stderr",
          "text": [
            " 19%|█▉        | 3849/20455 [00:17<01:26, 191.57it/s]"
          ]
        },
        {
          "output_type": "stream",
          "name": "stdout",
          "text": [
            "3818 ---------->  index 0 is out of bounds for axis 0 with size 0\n"
          ]
        },
        {
          "output_type": "stream",
          "name": "stderr",
          "text": [
            " 27%|██▋       | 5538/20455 [00:27<01:46, 140.01it/s]"
          ]
        },
        {
          "output_type": "stream",
          "name": "stdout",
          "text": [
            "5509 ---------->  index 0 is out of bounds for axis 0 with size 0\n"
          ]
        },
        {
          "output_type": "stream",
          "name": "stderr",
          "text": [
            " 36%|███▌      | 7381/20455 [00:36<01:41, 128.47it/s]"
          ]
        },
        {
          "output_type": "stream",
          "name": "stdout",
          "text": [
            "7372 ---------->  index 0 is out of bounds for axis 0 with size 0\n"
          ]
        },
        {
          "output_type": "stream",
          "name": "stderr",
          "text": [
            " 48%|████▊     | 9770/20455 [00:47<01:03, 169.27it/s]"
          ]
        },
        {
          "output_type": "stream",
          "name": "stdout",
          "text": [
            "9739 ---------->  index 0 is out of bounds for axis 0 with size 0\n"
          ]
        },
        {
          "output_type": "stream",
          "name": "stderr",
          "text": [
            " 66%|██████▌   | 13551/20455 [01:07<00:27, 253.57it/s]"
          ]
        },
        {
          "output_type": "stream",
          "name": "stdout",
          "text": [
            "13506 ---------->  index 0 is out of bounds for axis 0 with size 0\n"
          ]
        },
        {
          "output_type": "stream",
          "name": "stderr",
          "text": [
            " 69%|██████▉   | 14175/20455 [01:09<00:25, 248.70it/s]"
          ]
        },
        {
          "output_type": "stream",
          "name": "stdout",
          "text": [
            "14141 ---------->  index 0 is out of bounds for axis 0 with size 0\n"
          ]
        },
        {
          "output_type": "stream",
          "name": "stderr",
          "text": [
            " 77%|███████▋  | 15664/20455 [01:16<00:18, 255.10it/s]"
          ]
        },
        {
          "output_type": "stream",
          "name": "stdout",
          "text": [
            "15620 ---------->  index 0 is out of bounds for axis 0 with size 0\n"
          ]
        },
        {
          "output_type": "stream",
          "name": "stderr",
          "text": [
            " 77%|███████▋  | 15820/20455 [01:17<00:19, 243.61it/s]"
          ]
        },
        {
          "output_type": "stream",
          "name": "stdout",
          "text": [
            "15764 ---------->  index 0 is out of bounds for axis 0 with size 0\n"
          ]
        },
        {
          "output_type": "stream",
          "name": "stderr",
          "text": [
            " 79%|███████▉  | 16248/20455 [01:18<00:17, 246.08it/s]"
          ]
        },
        {
          "output_type": "stream",
          "name": "stdout",
          "text": [
            "16211 ---------->  index 0 is out of bounds for axis 0 with size 0\n"
          ]
        },
        {
          "output_type": "stream",
          "name": "stderr",
          "text": [
            " 93%|█████████▎| 19010/20455 [01:31<00:09, 155.03it/s]"
          ]
        },
        {
          "output_type": "stream",
          "name": "stdout",
          "text": [
            "18992 ---------->  index 0 is out of bounds for axis 0 with size 0\n"
          ]
        },
        {
          "output_type": "stream",
          "name": "stderr",
          "text": [
            "100%|██████████| 20455/20455 [01:38<00:00, 208.49it/s]\n"
          ]
        }
      ]
    },
    {
      "cell_type": "code",
      "source": [
        "Xtest = []\n",
        "Ytest = []\n",
        "for i in range(len(xtest)):\n",
        "    if len(xtest[i])==2 and len(xtest[i][0])==768 and len(xtest[i][1])==768:\n",
        "        Xtest.append(xtest[i])\n",
        "        Ytest.append(ytest[i])\n",
        "    else:\n",
        "        pass"
      ],
      "metadata": {
        "id": "nyIi2S0R92sR"
      },
      "execution_count": 122,
      "outputs": []
    },
    {
      "cell_type": "code",
      "source": [
        "xtest = np.array(Xtest)\n",
        "xtest.shape"
      ],
      "metadata": {
        "colab": {
          "base_uri": "https://localhost:8080/"
        },
        "id": "CCikA_3f1OXA",
        "outputId": "9d9493f4-4891-4b5c-c9e8-ee0ef9d9ed85"
      },
      "execution_count": 123,
      "outputs": [
        {
          "output_type": "execute_result",
          "data": {
            "text/plain": [
              "(20441, 2, 768)"
            ]
          },
          "metadata": {},
          "execution_count": 123
        }
      ]
    },
    {
      "cell_type": "code",
      "source": [
        "with open('xtest pn.pkl', 'wb') as handle:\n",
        "    pickle.dump(xtest, handle, protocol=pickle.HIGHEST_PROTOCOL)"
      ],
      "metadata": {
        "id": "LQbW9txYs2Gb"
      },
      "execution_count": 124,
      "outputs": []
    },
    {
      "cell_type": "code",
      "source": [
        "with open('ytest pn.pkl', 'wb') as handle:\n",
        "    pickle.dump(Ytest, handle, protocol=pickle.HIGHEST_PROTOCOL)"
      ],
      "metadata": {
        "id": "Ll4qSFm4qTw0"
      },
      "execution_count": 125,
      "outputs": []
    },
    {
      "cell_type": "code",
      "source": [
        "len(xtest),len(Ytest)"
      ],
      "metadata": {
        "colab": {
          "base_uri": "https://localhost:8080/"
        },
        "id": "KW78tXT5q_XU",
        "outputId": "33c1f393-a1e0-4dc8-f243-ffc235bbdc09"
      },
      "execution_count": 126,
      "outputs": [
        {
          "output_type": "execute_result",
          "data": {
            "text/plain": [
              "(20441, 20441)"
            ]
          },
          "metadata": {},
          "execution_count": 126
        }
      ]
    },
    {
      "cell_type": "code",
      "source": [
        ""
      ],
      "metadata": {
        "id": "UVTqAqs2_ffi"
      },
      "execution_count": null,
      "outputs": []
    },
    {
      "cell_type": "code",
      "source": [
        ""
      ],
      "metadata": {
        "id": "78MADuYS_fib"
      },
      "execution_count": null,
      "outputs": []
    }
  ]
}